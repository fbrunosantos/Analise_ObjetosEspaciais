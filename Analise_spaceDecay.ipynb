{
  "nbformat": 4,
  "nbformat_minor": 0,
  "metadata": {
    "colab": {
      "provenance": [],
      "authorship_tag": "ABX9TyMCw2a+HjLdsTeKU2Fygd9B",
      "include_colab_link": true
    },
    "kernelspec": {
      "name": "python3",
      "display_name": "Python 3"
    },
    "language_info": {
      "name": "python"
    }
  },
  "cells": [
    {
      "cell_type": "markdown",
      "metadata": {
        "id": "view-in-github",
        "colab_type": "text"
      },
      "source": [
        "<a href=\"https://colab.research.google.com/github/fbrunosantos/Analise_ObjetosEspaciais/blob/main/Analise_spaceDecay.ipynb\" target=\"_parent\"><img src=\"https://colab.research.google.com/assets/colab-badge.svg\" alt=\"Open In Colab\"/></a>"
      ]
    },
    {
      "cell_type": "markdown",
      "source": [
        "###**Analise do dataset de Satélites e Detritos na órbita da Terra**\n",
        "\n"
      ],
      "metadata": {
        "id": "oUN0Uq5yW1Mf"
      }
    },
    {
      "cell_type": "markdown",
      "source": [
        "Esta é a primeira análise realizada, uma atividade do grupo de estudos da Universidade dos Dados.\n",
        "\n",
        "O dataset foi obtido no kaggle. Trata-se de dados sobre objetos espaciais com informações como: tamanho, data de lançamento, tipo de objeto, local de lançamento, qual país resoponsável, entre outras.\n"
      ],
      "metadata": {
        "id": "a4ZZQC01nIA5"
      }
    },
    {
      "cell_type": "markdown",
      "source": [
        "## **Carregando os dados**"
      ],
      "metadata": {
        "id": "ppzaXk4oXKNb"
      }
    },
    {
      "cell_type": "code",
      "execution_count": null,
      "metadata": {
        "id": "nxtSdBR1z9S4"
      },
      "outputs": [],
      "source": [
        "#importando bibliotecas\n",
        "import pandas as pd\n",
        "import numpy as np\n",
        "import matplotlib.pyplot as plt"
      ]
    },
    {
      "cell_type": "code",
      "source": [
        "#carregando os dados\n",
        "dados = pd.read_csv(\"space_decay.csv\")\n",
        "dados.head()"
      ],
      "metadata": {
        "colab": {
          "base_uri": "https://localhost:8080/",
          "height": 734
        },
        "id": "AdExawFo0EvZ",
        "outputId": "4f293704-3760-401f-8b93-29dcb0fe5b99"
      },
      "execution_count": null,
      "outputs": [
        {
          "output_type": "execute_result",
          "data": {
            "text/plain": [
              "   CCSDS_OMM_VERS                            COMMENT        CREATION_DATE  \\\n",
              "0               2  GENERATED VIA SPACE-TRACK.ORG API  2021-11-01T06:46:11   \n",
              "1               2  GENERATED VIA SPACE-TRACK.ORG API  2021-11-01T04:58:37   \n",
              "2               2  GENERATED VIA SPACE-TRACK.ORG API  2021-11-01T06:26:11   \n",
              "3               2  GENERATED VIA SPACE-TRACK.ORG API  2021-10-31T18:07:15   \n",
              "4               2  GENERATED VIA SPACE-TRACK.ORG API  2021-11-01T04:58:37   \n",
              "\n",
              "  ORIGINATOR      OBJECT_NAME   OBJECT_ID CENTER_NAME REF_FRAME TIME_SYSTEM  \\\n",
              "0    18 SPCS  ARIANE 42P+ DEB   1992-072J       EARTH      TEME         UTC   \n",
              "1    18 SPCS         SL-8 DEB   1979-028C       EARTH      TEME         UTC   \n",
              "2    18 SPCS           GSAT 1   2001-015A       EARTH      TEME         UTC   \n",
              "3    18 SPCS         CZ-4 DEB  1999-057MB       EARTH      TEME         UTC   \n",
              "4    18 SPCS         CZ-4 DEB  1999-057MC       EARTH      TEME         UTC   \n",
              "\n",
              "  MEAN_ELEMENT_THEORY  ... RCS_SIZE  COUNTRY_CODE  LAUNCH_DATE   SITE  \\\n",
              "0                SGP4  ...   MEDIUM            FR       1992.0  FRGUI   \n",
              "1                SGP4  ...    SMALL           CIS       1979.0  PKMTR   \n",
              "2                SGP4  ...    LARGE           IND       2001.0    SRI   \n",
              "3                SGP4  ...    SMALL           PRC       1999.0    TSC   \n",
              "4                SGP4  ...    SMALL           PRC       1999.0    TSC   \n",
              "\n",
              "   DECAY_DATE     FILE      GP_ID          TLE_LINE0  \\\n",
              "0         NaN  3195178  188614016  0 ARIANE 42P+ DEB   \n",
              "1         NaN  3194950  188593285         0 SL-8 DEB   \n",
              "2         NaN  3195026  188609573           0 GSAT 1   \n",
              "3         NaN  3194431  188556894         0 CZ-4 DEB   \n",
              "4         NaN  3194950  188592541         0 CZ-4 DEB   \n",
              "\n",
              "                                           TLE_LINE1  \\\n",
              "0  1 26741U 92072J   21304.94919376  .00000883  0...   \n",
              "1  1 26743U 79028C   21304.68908982  .00000079  0...   \n",
              "2  1 26745U 01015A   21305.22411368 -.00000165  0...   \n",
              "3  1 26754U 99057MB  21304.46625230  .00002265  0...   \n",
              "4  1 26755U 99057MC  21304.74081807  .00002610  0...   \n",
              "\n",
              "                                           TLE_LINE2  \n",
              "0  2 26741   7.7156  90.2410 6528926 243.1216  38...  \n",
              "1  2 26743  82.9193 299.1120 0030720 158.9093 201...  \n",
              "2  2 26745  12.1717  16.5368 0237386 250.1248 146...  \n",
              "3  2 26754  98.4781   8.7205 0060618  37.3771 323...  \n",
              "4  2 26755  98.4232 122.0724 0062255 345.1605  27...  \n",
              "\n",
              "[5 rows x 40 columns]"
            ],
            "text/html": [
              "\n",
              "  <div id=\"df-80797f6c-1247-44d5-b459-1f2a49943c8d\">\n",
              "    <div class=\"colab-df-container\">\n",
              "      <div>\n",
              "<style scoped>\n",
              "    .dataframe tbody tr th:only-of-type {\n",
              "        vertical-align: middle;\n",
              "    }\n",
              "\n",
              "    .dataframe tbody tr th {\n",
              "        vertical-align: top;\n",
              "    }\n",
              "\n",
              "    .dataframe thead th {\n",
              "        text-align: right;\n",
              "    }\n",
              "</style>\n",
              "<table border=\"1\" class=\"dataframe\">\n",
              "  <thead>\n",
              "    <tr style=\"text-align: right;\">\n",
              "      <th></th>\n",
              "      <th>CCSDS_OMM_VERS</th>\n",
              "      <th>COMMENT</th>\n",
              "      <th>CREATION_DATE</th>\n",
              "      <th>ORIGINATOR</th>\n",
              "      <th>OBJECT_NAME</th>\n",
              "      <th>OBJECT_ID</th>\n",
              "      <th>CENTER_NAME</th>\n",
              "      <th>REF_FRAME</th>\n",
              "      <th>TIME_SYSTEM</th>\n",
              "      <th>MEAN_ELEMENT_THEORY</th>\n",
              "      <th>...</th>\n",
              "      <th>RCS_SIZE</th>\n",
              "      <th>COUNTRY_CODE</th>\n",
              "      <th>LAUNCH_DATE</th>\n",
              "      <th>SITE</th>\n",
              "      <th>DECAY_DATE</th>\n",
              "      <th>FILE</th>\n",
              "      <th>GP_ID</th>\n",
              "      <th>TLE_LINE0</th>\n",
              "      <th>TLE_LINE1</th>\n",
              "      <th>TLE_LINE2</th>\n",
              "    </tr>\n",
              "  </thead>\n",
              "  <tbody>\n",
              "    <tr>\n",
              "      <th>0</th>\n",
              "      <td>2</td>\n",
              "      <td>GENERATED VIA SPACE-TRACK.ORG API</td>\n",
              "      <td>2021-11-01T06:46:11</td>\n",
              "      <td>18 SPCS</td>\n",
              "      <td>ARIANE 42P+ DEB</td>\n",
              "      <td>1992-072J</td>\n",
              "      <td>EARTH</td>\n",
              "      <td>TEME</td>\n",
              "      <td>UTC</td>\n",
              "      <td>SGP4</td>\n",
              "      <td>...</td>\n",
              "      <td>MEDIUM</td>\n",
              "      <td>FR</td>\n",
              "      <td>1992.0</td>\n",
              "      <td>FRGUI</td>\n",
              "      <td>NaN</td>\n",
              "      <td>3195178</td>\n",
              "      <td>188614016</td>\n",
              "      <td>0 ARIANE 42P+ DEB</td>\n",
              "      <td>1 26741U 92072J   21304.94919376  .00000883  0...</td>\n",
              "      <td>2 26741   7.7156  90.2410 6528926 243.1216  38...</td>\n",
              "    </tr>\n",
              "    <tr>\n",
              "      <th>1</th>\n",
              "      <td>2</td>\n",
              "      <td>GENERATED VIA SPACE-TRACK.ORG API</td>\n",
              "      <td>2021-11-01T04:58:37</td>\n",
              "      <td>18 SPCS</td>\n",
              "      <td>SL-8 DEB</td>\n",
              "      <td>1979-028C</td>\n",
              "      <td>EARTH</td>\n",
              "      <td>TEME</td>\n",
              "      <td>UTC</td>\n",
              "      <td>SGP4</td>\n",
              "      <td>...</td>\n",
              "      <td>SMALL</td>\n",
              "      <td>CIS</td>\n",
              "      <td>1979.0</td>\n",
              "      <td>PKMTR</td>\n",
              "      <td>NaN</td>\n",
              "      <td>3194950</td>\n",
              "      <td>188593285</td>\n",
              "      <td>0 SL-8 DEB</td>\n",
              "      <td>1 26743U 79028C   21304.68908982  .00000079  0...</td>\n",
              "      <td>2 26743  82.9193 299.1120 0030720 158.9093 201...</td>\n",
              "    </tr>\n",
              "    <tr>\n",
              "      <th>2</th>\n",
              "      <td>2</td>\n",
              "      <td>GENERATED VIA SPACE-TRACK.ORG API</td>\n",
              "      <td>2021-11-01T06:26:11</td>\n",
              "      <td>18 SPCS</td>\n",
              "      <td>GSAT 1</td>\n",
              "      <td>2001-015A</td>\n",
              "      <td>EARTH</td>\n",
              "      <td>TEME</td>\n",
              "      <td>UTC</td>\n",
              "      <td>SGP4</td>\n",
              "      <td>...</td>\n",
              "      <td>LARGE</td>\n",
              "      <td>IND</td>\n",
              "      <td>2001.0</td>\n",
              "      <td>SRI</td>\n",
              "      <td>NaN</td>\n",
              "      <td>3195026</td>\n",
              "      <td>188609573</td>\n",
              "      <td>0 GSAT 1</td>\n",
              "      <td>1 26745U 01015A   21305.22411368 -.00000165  0...</td>\n",
              "      <td>2 26745  12.1717  16.5368 0237386 250.1248 146...</td>\n",
              "    </tr>\n",
              "    <tr>\n",
              "      <th>3</th>\n",
              "      <td>2</td>\n",
              "      <td>GENERATED VIA SPACE-TRACK.ORG API</td>\n",
              "      <td>2021-10-31T18:07:15</td>\n",
              "      <td>18 SPCS</td>\n",
              "      <td>CZ-4 DEB</td>\n",
              "      <td>1999-057MB</td>\n",
              "      <td>EARTH</td>\n",
              "      <td>TEME</td>\n",
              "      <td>UTC</td>\n",
              "      <td>SGP4</td>\n",
              "      <td>...</td>\n",
              "      <td>SMALL</td>\n",
              "      <td>PRC</td>\n",
              "      <td>1999.0</td>\n",
              "      <td>TSC</td>\n",
              "      <td>NaN</td>\n",
              "      <td>3194431</td>\n",
              "      <td>188556894</td>\n",
              "      <td>0 CZ-4 DEB</td>\n",
              "      <td>1 26754U 99057MB  21304.46625230  .00002265  0...</td>\n",
              "      <td>2 26754  98.4781   8.7205 0060618  37.3771 323...</td>\n",
              "    </tr>\n",
              "    <tr>\n",
              "      <th>4</th>\n",
              "      <td>2</td>\n",
              "      <td>GENERATED VIA SPACE-TRACK.ORG API</td>\n",
              "      <td>2021-11-01T04:58:37</td>\n",
              "      <td>18 SPCS</td>\n",
              "      <td>CZ-4 DEB</td>\n",
              "      <td>1999-057MC</td>\n",
              "      <td>EARTH</td>\n",
              "      <td>TEME</td>\n",
              "      <td>UTC</td>\n",
              "      <td>SGP4</td>\n",
              "      <td>...</td>\n",
              "      <td>SMALL</td>\n",
              "      <td>PRC</td>\n",
              "      <td>1999.0</td>\n",
              "      <td>TSC</td>\n",
              "      <td>NaN</td>\n",
              "      <td>3194950</td>\n",
              "      <td>188592541</td>\n",
              "      <td>0 CZ-4 DEB</td>\n",
              "      <td>1 26755U 99057MC  21304.74081807  .00002610  0...</td>\n",
              "      <td>2 26755  98.4232 122.0724 0062255 345.1605  27...</td>\n",
              "    </tr>\n",
              "  </tbody>\n",
              "</table>\n",
              "<p>5 rows × 40 columns</p>\n",
              "</div>\n",
              "      <button class=\"colab-df-convert\" onclick=\"convertToInteractive('df-80797f6c-1247-44d5-b459-1f2a49943c8d')\"\n",
              "              title=\"Convert this dataframe to an interactive table.\"\n",
              "              style=\"display:none;\">\n",
              "        \n",
              "  <svg xmlns=\"http://www.w3.org/2000/svg\" height=\"24px\"viewBox=\"0 0 24 24\"\n",
              "       width=\"24px\">\n",
              "    <path d=\"M0 0h24v24H0V0z\" fill=\"none\"/>\n",
              "    <path d=\"M18.56 5.44l.94 2.06.94-2.06 2.06-.94-2.06-.94-.94-2.06-.94 2.06-2.06.94zm-11 1L8.5 8.5l.94-2.06 2.06-.94-2.06-.94L8.5 2.5l-.94 2.06-2.06.94zm10 10l.94 2.06.94-2.06 2.06-.94-2.06-.94-.94-2.06-.94 2.06-2.06.94z\"/><path d=\"M17.41 7.96l-1.37-1.37c-.4-.4-.92-.59-1.43-.59-.52 0-1.04.2-1.43.59L10.3 9.45l-7.72 7.72c-.78.78-.78 2.05 0 2.83L4 21.41c.39.39.9.59 1.41.59.51 0 1.02-.2 1.41-.59l7.78-7.78 2.81-2.81c.8-.78.8-2.07 0-2.86zM5.41 20L4 18.59l7.72-7.72 1.47 1.35L5.41 20z\"/>\n",
              "  </svg>\n",
              "      </button>\n",
              "      \n",
              "  <style>\n",
              "    .colab-df-container {\n",
              "      display:flex;\n",
              "      flex-wrap:wrap;\n",
              "      gap: 12px;\n",
              "    }\n",
              "\n",
              "    .colab-df-convert {\n",
              "      background-color: #E8F0FE;\n",
              "      border: none;\n",
              "      border-radius: 50%;\n",
              "      cursor: pointer;\n",
              "      display: none;\n",
              "      fill: #1967D2;\n",
              "      height: 32px;\n",
              "      padding: 0 0 0 0;\n",
              "      width: 32px;\n",
              "    }\n",
              "\n",
              "    .colab-df-convert:hover {\n",
              "      background-color: #E2EBFA;\n",
              "      box-shadow: 0px 1px 2px rgba(60, 64, 67, 0.3), 0px 1px 3px 1px rgba(60, 64, 67, 0.15);\n",
              "      fill: #174EA6;\n",
              "    }\n",
              "\n",
              "    [theme=dark] .colab-df-convert {\n",
              "      background-color: #3B4455;\n",
              "      fill: #D2E3FC;\n",
              "    }\n",
              "\n",
              "    [theme=dark] .colab-df-convert:hover {\n",
              "      background-color: #434B5C;\n",
              "      box-shadow: 0px 1px 3px 1px rgba(0, 0, 0, 0.15);\n",
              "      filter: drop-shadow(0px 1px 2px rgba(0, 0, 0, 0.3));\n",
              "      fill: #FFFFFF;\n",
              "    }\n",
              "  </style>\n",
              "\n",
              "      <script>\n",
              "        const buttonEl =\n",
              "          document.querySelector('#df-80797f6c-1247-44d5-b459-1f2a49943c8d button.colab-df-convert');\n",
              "        buttonEl.style.display =\n",
              "          google.colab.kernel.accessAllowed ? 'block' : 'none';\n",
              "\n",
              "        async function convertToInteractive(key) {\n",
              "          const element = document.querySelector('#df-80797f6c-1247-44d5-b459-1f2a49943c8d');\n",
              "          const dataTable =\n",
              "            await google.colab.kernel.invokeFunction('convertToInteractive',\n",
              "                                                     [key], {});\n",
              "          if (!dataTable) return;\n",
              "\n",
              "          const docLinkHtml = 'Like what you see? Visit the ' +\n",
              "            '<a target=\"_blank\" href=https://colab.research.google.com/notebooks/data_table.ipynb>data table notebook</a>'\n",
              "            + ' to learn more about interactive tables.';\n",
              "          element.innerHTML = '';\n",
              "          dataTable['output_type'] = 'display_data';\n",
              "          await google.colab.output.renderOutput(dataTable, element);\n",
              "          const docLink = document.createElement('div');\n",
              "          docLink.innerHTML = docLinkHtml;\n",
              "          element.appendChild(docLink);\n",
              "        }\n",
              "      </script>\n",
              "    </div>\n",
              "  </div>\n",
              "  "
            ]
          },
          "metadata": {},
          "execution_count": 7
        }
      ]
    },
    {
      "cell_type": "code",
      "source": [
        "#número total de linhas e colunas\n",
        "dados.shape"
      ],
      "metadata": {
        "colab": {
          "base_uri": "https://localhost:8080/"
        },
        "id": "gM-hO2WT0Oq5",
        "outputId": "e566190e-de29-4d14-9ac4-71cd36f1f892"
      },
      "execution_count": null,
      "outputs": [
        {
          "output_type": "execute_result",
          "data": {
            "text/plain": [
              "(14372, 40)"
            ]
          },
          "metadata": {},
          "execution_count": 8
        }
      ]
    },
    {
      "cell_type": "code",
      "source": [
        "#Verifica informações gerais do dataset\n",
        "dados.info()"
      ],
      "metadata": {
        "colab": {
          "base_uri": "https://localhost:8080/"
        },
        "id": "xi7U4x5Q0RWB",
        "outputId": "b5bbdc39-edc4-4b2f-8e45-fa8c57fc166d"
      },
      "execution_count": null,
      "outputs": [
        {
          "output_type": "stream",
          "name": "stdout",
          "text": [
            "<class 'pandas.core.frame.DataFrame'>\n",
            "RangeIndex: 14372 entries, 0 to 14371\n",
            "Data columns (total 40 columns):\n",
            " #   Column               Non-Null Count  Dtype  \n",
            "---  ------               --------------  -----  \n",
            " 0   CCSDS_OMM_VERS       14372 non-null  int64  \n",
            " 1   COMMENT              14372 non-null  object \n",
            " 2   CREATION_DATE        14372 non-null  object \n",
            " 3   ORIGINATOR           14372 non-null  object \n",
            " 4   OBJECT_NAME          14372 non-null  object \n",
            " 5   OBJECT_ID            14333 non-null  object \n",
            " 6   CENTER_NAME          14372 non-null  object \n",
            " 7   REF_FRAME            14372 non-null  object \n",
            " 8   TIME_SYSTEM          14372 non-null  object \n",
            " 9   MEAN_ELEMENT_THEORY  14372 non-null  object \n",
            " 10  EPOCH                14372 non-null  object \n",
            " 11  MEAN_MOTION          14372 non-null  float64\n",
            " 12  ECCENTRICITY         14372 non-null  float64\n",
            " 13  INCLINATION          14372 non-null  float64\n",
            " 14  RA_OF_ASC_NODE       14372 non-null  float64\n",
            " 15  ARG_OF_PERICENTER    14372 non-null  float64\n",
            " 16  MEAN_ANOMALY         14372 non-null  float64\n",
            " 17  EPHEMERIS_TYPE       14372 non-null  int64  \n",
            " 18  CLASSIFICATION_TYPE  14372 non-null  object \n",
            " 19  NORAD_CAT_ID         14372 non-null  int64  \n",
            " 20  ELEMENT_SET_NO       14372 non-null  int64  \n",
            " 21  REV_AT_EPOCH         14372 non-null  int64  \n",
            " 22  BSTAR                14372 non-null  float64\n",
            " 23  MEAN_MOTION_DOT      14372 non-null  float64\n",
            " 24  MEAN_MOTION_DDOT     14372 non-null  float64\n",
            " 25  SEMIMAJOR_AXIS       14372 non-null  float64\n",
            " 26  PERIOD               14372 non-null  float64\n",
            " 27  APOAPSIS             14372 non-null  float64\n",
            " 28  PERIAPSIS            14372 non-null  float64\n",
            " 29  OBJECT_TYPE          14372 non-null  object \n",
            " 30  RCS_SIZE             14174 non-null  object \n",
            " 31  COUNTRY_CODE         14333 non-null  object \n",
            " 32  LAUNCH_DATE          14333 non-null  float64\n",
            " 33  SITE                 14333 non-null  object \n",
            " 34  DECAY_DATE           0 non-null      float64\n",
            " 35  FILE                 14372 non-null  int64  \n",
            " 36  GP_ID                14372 non-null  int64  \n",
            " 37  TLE_LINE0            14372 non-null  object \n",
            " 38  TLE_LINE1            14372 non-null  object \n",
            " 39  TLE_LINE2            14372 non-null  object \n",
            "dtypes: float64(15), int64(7), object(18)\n",
            "memory usage: 4.4+ MB\n"
          ]
        }
      ]
    },
    {
      "cell_type": "code",
      "source": [
        "#Verifica numero de dados faltantes\n",
        "dados.isna().sum()"
      ],
      "metadata": {
        "colab": {
          "base_uri": "https://localhost:8080/"
        },
        "id": "NN2PCd_V3GXS",
        "outputId": "88ca76da-1bf3-4be6-8769-97f3e1c25406"
      },
      "execution_count": null,
      "outputs": [
        {
          "output_type": "execute_result",
          "data": {
            "text/plain": [
              "CCSDS_OMM_VERS             0\n",
              "COMMENT                    0\n",
              "CREATION_DATE              0\n",
              "ORIGINATOR                 0\n",
              "OBJECT_NAME                0\n",
              "OBJECT_ID                 39\n",
              "CENTER_NAME                0\n",
              "REF_FRAME                  0\n",
              "TIME_SYSTEM                0\n",
              "MEAN_ELEMENT_THEORY        0\n",
              "EPOCH                      0\n",
              "MEAN_MOTION                0\n",
              "ECCENTRICITY               0\n",
              "INCLINATION                0\n",
              "RA_OF_ASC_NODE             0\n",
              "ARG_OF_PERICENTER          0\n",
              "MEAN_ANOMALY               0\n",
              "EPHEMERIS_TYPE             0\n",
              "CLASSIFICATION_TYPE        0\n",
              "NORAD_CAT_ID               0\n",
              "ELEMENT_SET_NO             0\n",
              "REV_AT_EPOCH               0\n",
              "BSTAR                      0\n",
              "MEAN_MOTION_DOT            0\n",
              "MEAN_MOTION_DDOT           0\n",
              "SEMIMAJOR_AXIS             0\n",
              "PERIOD                     0\n",
              "APOAPSIS                   0\n",
              "PERIAPSIS                  0\n",
              "OBJECT_TYPE                0\n",
              "RCS_SIZE                 198\n",
              "COUNTRY_CODE              39\n",
              "LAUNCH_DATE               39\n",
              "SITE                      39\n",
              "DECAY_DATE             14372\n",
              "FILE                       0\n",
              "GP_ID                      0\n",
              "TLE_LINE0                  0\n",
              "TLE_LINE1                  0\n",
              "TLE_LINE2                  0\n",
              "dtype: int64"
            ]
          },
          "metadata": {},
          "execution_count": 10
        }
      ]
    },
    {
      "cell_type": "code",
      "source": [
        "#Mostra todas as colunas do dataset escolhido\n",
        "dados.columns"
      ],
      "metadata": {
        "colab": {
          "base_uri": "https://localhost:8080/"
        },
        "id": "fe_er7poFVgX",
        "outputId": "8d7e1b46-c99f-4ae3-f302-b9d76f2cb223"
      },
      "execution_count": null,
      "outputs": [
        {
          "output_type": "execute_result",
          "data": {
            "text/plain": [
              "Index(['CCSDS_OMM_VERS', 'COMMENT', 'CREATION_DATE', 'ORIGINATOR',\n",
              "       'OBJECT_NAME', 'OBJECT_ID', 'CENTER_NAME', 'REF_FRAME', 'TIME_SYSTEM',\n",
              "       'MEAN_ELEMENT_THEORY', 'EPOCH', 'MEAN_MOTION', 'ECCENTRICITY',\n",
              "       'INCLINATION', 'RA_OF_ASC_NODE', 'ARG_OF_PERICENTER', 'MEAN_ANOMALY',\n",
              "       'EPHEMERIS_TYPE', 'CLASSIFICATION_TYPE', 'NORAD_CAT_ID',\n",
              "       'ELEMENT_SET_NO', 'REV_AT_EPOCH', 'BSTAR', 'MEAN_MOTION_DOT',\n",
              "       'MEAN_MOTION_DDOT', 'SEMIMAJOR_AXIS', 'PERIOD', 'APOAPSIS', 'PERIAPSIS',\n",
              "       'OBJECT_TYPE', 'RCS_SIZE', 'COUNTRY_CODE', 'LAUNCH_DATE', 'SITE',\n",
              "       'DECAY_DATE', 'FILE', 'GP_ID', 'TLE_LINE0', 'TLE_LINE1', 'TLE_LINE2'],\n",
              "      dtype='object')"
            ]
          },
          "metadata": {},
          "execution_count": 11
        }
      ]
    },
    {
      "cell_type": "code",
      "source": [
        "dados.describe()"
      ],
      "metadata": {
        "colab": {
          "base_uri": "https://localhost:8080/",
          "height": 394
        },
        "id": "zFpRQxcTQR7e",
        "outputId": "b2b23fd5-6234-47ce-edd6-cd86dc0d7990"
      },
      "execution_count": null,
      "outputs": [
        {
          "output_type": "execute_result",
          "data": {
            "text/plain": [
              "       CCSDS_OMM_VERS   MEAN_MOTION  ECCENTRICITY   INCLINATION  \\\n",
              "count         14372.0  14372.000000  14372.000000  14372.000000   \n",
              "mean              2.0     12.463847      0.067168     74.354208   \n",
              "std               0.0      4.509305      0.181547     29.626780   \n",
              "min               2.0      0.051783      0.000005      0.001400   \n",
              "25%               2.0     13.452144      0.000725     53.055300   \n",
              "50%               2.0     14.277052      0.003416     86.369200   \n",
              "75%               2.0     14.963745      0.013505     98.565125   \n",
              "max               2.0     16.404097      0.897218    144.586200   \n",
              "\n",
              "       RA_OF_ASC_NODE  ARG_OF_PERICENTER  MEAN_ANOMALY  EPHEMERIS_TYPE  \\\n",
              "count    14372.000000       14372.000000  14372.000000         14372.0   \n",
              "mean       182.353111         165.977199    191.015595             0.0   \n",
              "std        116.717713         104.461866    109.873807             0.0   \n",
              "min          0.020000           0.008200      0.004800             0.0   \n",
              "25%         71.987350          77.363475     90.001600             0.0   \n",
              "50%        189.460250         150.483900    206.957400             0.0   \n",
              "75%        292.484750         258.328550    284.163200             0.0   \n",
              "max        359.967900         359.989900    359.981900             0.0   \n",
              "\n",
              "        NORAD_CAT_ID  ELEMENT_SET_NO  ...  MEAN_MOTION_DOT  MEAN_MOTION_DDOT  \\\n",
              "count   14372.000000         14372.0  ...     14372.000000      1.437200e+04   \n",
              "mean    39558.160381           999.0  ...         0.000049      2.307751e-07   \n",
              "std      7619.846133             0.0  ...         0.002391      1.485939e-05   \n",
              "min     26741.000000           999.0  ...        -0.014873     -4.210300e-05   \n",
              "25%     33965.750000           999.0  ...         0.000001      0.000000e+00   \n",
              "50%     40165.500000           999.0  ...         0.000010      0.000000e+00   \n",
              "75%     45173.500000           999.0  ...         0.000032      0.000000e+00   \n",
              "max    270288.000000           999.0  ...         0.225321      1.654800e-03   \n",
              "\n",
              "       SEMIMAJOR_AXIS        PERIOD       APOAPSIS      PERIAPSIS  \\\n",
              "count    14372.000000  14372.000000   14372.000000   14372.000000   \n",
              "mean     10636.185210    223.521557    5721.060178    2795.040245   \n",
              "std       9580.627227    446.517041   13016.299008    7943.045264   \n",
              "min       6542.850000     87.783000     183.393000      73.279000   \n",
              "25%       6956.246750     96.232750     599.876000     546.115000   \n",
              "50%       7177.549000    100.861000     843.686000     702.433500   \n",
              "75%       7468.055000    107.046000    1207.919500     831.959750   \n",
              "max     304049.635000  27808.429000  372136.402000  224547.015000   \n",
              "\n",
              "        LAUNCH_DATE  DECAY_DATE          FILE         GP_ID  \n",
              "count  14333.000000         0.0  1.437200e+04  1.437200e+04  \n",
              "mean    2004.507570         NaN  3.194186e+06  1.885638e+08  \n",
              "std       13.565227         NaN  3.119117e+03  1.393616e+05  \n",
              "min     1961.000000         NaN  3.142499e+06  1.860926e+08  \n",
              "25%     1997.000000         NaN  3.194431e+06  1.885665e+08  \n",
              "50%     2002.000000         NaN  3.194950e+06  1.885986e+08  \n",
              "75%     2018.000000         NaN  3.195064e+06  1.886107e+08  \n",
              "max     2021.000000         NaN  3.195727e+06  1.886250e+08  \n",
              "\n",
              "[8 rows x 22 columns]"
            ],
            "text/html": [
              "\n",
              "  <div id=\"df-5843f435-a795-4845-a468-1396e7d9d443\">\n",
              "    <div class=\"colab-df-container\">\n",
              "      <div>\n",
              "<style scoped>\n",
              "    .dataframe tbody tr th:only-of-type {\n",
              "        vertical-align: middle;\n",
              "    }\n",
              "\n",
              "    .dataframe tbody tr th {\n",
              "        vertical-align: top;\n",
              "    }\n",
              "\n",
              "    .dataframe thead th {\n",
              "        text-align: right;\n",
              "    }\n",
              "</style>\n",
              "<table border=\"1\" class=\"dataframe\">\n",
              "  <thead>\n",
              "    <tr style=\"text-align: right;\">\n",
              "      <th></th>\n",
              "      <th>CCSDS_OMM_VERS</th>\n",
              "      <th>MEAN_MOTION</th>\n",
              "      <th>ECCENTRICITY</th>\n",
              "      <th>INCLINATION</th>\n",
              "      <th>RA_OF_ASC_NODE</th>\n",
              "      <th>ARG_OF_PERICENTER</th>\n",
              "      <th>MEAN_ANOMALY</th>\n",
              "      <th>EPHEMERIS_TYPE</th>\n",
              "      <th>NORAD_CAT_ID</th>\n",
              "      <th>ELEMENT_SET_NO</th>\n",
              "      <th>...</th>\n",
              "      <th>MEAN_MOTION_DOT</th>\n",
              "      <th>MEAN_MOTION_DDOT</th>\n",
              "      <th>SEMIMAJOR_AXIS</th>\n",
              "      <th>PERIOD</th>\n",
              "      <th>APOAPSIS</th>\n",
              "      <th>PERIAPSIS</th>\n",
              "      <th>LAUNCH_DATE</th>\n",
              "      <th>DECAY_DATE</th>\n",
              "      <th>FILE</th>\n",
              "      <th>GP_ID</th>\n",
              "    </tr>\n",
              "  </thead>\n",
              "  <tbody>\n",
              "    <tr>\n",
              "      <th>count</th>\n",
              "      <td>14372.0</td>\n",
              "      <td>14372.000000</td>\n",
              "      <td>14372.000000</td>\n",
              "      <td>14372.000000</td>\n",
              "      <td>14372.000000</td>\n",
              "      <td>14372.000000</td>\n",
              "      <td>14372.000000</td>\n",
              "      <td>14372.0</td>\n",
              "      <td>14372.000000</td>\n",
              "      <td>14372.0</td>\n",
              "      <td>...</td>\n",
              "      <td>14372.000000</td>\n",
              "      <td>1.437200e+04</td>\n",
              "      <td>14372.000000</td>\n",
              "      <td>14372.000000</td>\n",
              "      <td>14372.000000</td>\n",
              "      <td>14372.000000</td>\n",
              "      <td>14333.000000</td>\n",
              "      <td>0.0</td>\n",
              "      <td>1.437200e+04</td>\n",
              "      <td>1.437200e+04</td>\n",
              "    </tr>\n",
              "    <tr>\n",
              "      <th>mean</th>\n",
              "      <td>2.0</td>\n",
              "      <td>12.463847</td>\n",
              "      <td>0.067168</td>\n",
              "      <td>74.354208</td>\n",
              "      <td>182.353111</td>\n",
              "      <td>165.977199</td>\n",
              "      <td>191.015595</td>\n",
              "      <td>0.0</td>\n",
              "      <td>39558.160381</td>\n",
              "      <td>999.0</td>\n",
              "      <td>...</td>\n",
              "      <td>0.000049</td>\n",
              "      <td>2.307751e-07</td>\n",
              "      <td>10636.185210</td>\n",
              "      <td>223.521557</td>\n",
              "      <td>5721.060178</td>\n",
              "      <td>2795.040245</td>\n",
              "      <td>2004.507570</td>\n",
              "      <td>NaN</td>\n",
              "      <td>3.194186e+06</td>\n",
              "      <td>1.885638e+08</td>\n",
              "    </tr>\n",
              "    <tr>\n",
              "      <th>std</th>\n",
              "      <td>0.0</td>\n",
              "      <td>4.509305</td>\n",
              "      <td>0.181547</td>\n",
              "      <td>29.626780</td>\n",
              "      <td>116.717713</td>\n",
              "      <td>104.461866</td>\n",
              "      <td>109.873807</td>\n",
              "      <td>0.0</td>\n",
              "      <td>7619.846133</td>\n",
              "      <td>0.0</td>\n",
              "      <td>...</td>\n",
              "      <td>0.002391</td>\n",
              "      <td>1.485939e-05</td>\n",
              "      <td>9580.627227</td>\n",
              "      <td>446.517041</td>\n",
              "      <td>13016.299008</td>\n",
              "      <td>7943.045264</td>\n",
              "      <td>13.565227</td>\n",
              "      <td>NaN</td>\n",
              "      <td>3.119117e+03</td>\n",
              "      <td>1.393616e+05</td>\n",
              "    </tr>\n",
              "    <tr>\n",
              "      <th>min</th>\n",
              "      <td>2.0</td>\n",
              "      <td>0.051783</td>\n",
              "      <td>0.000005</td>\n",
              "      <td>0.001400</td>\n",
              "      <td>0.020000</td>\n",
              "      <td>0.008200</td>\n",
              "      <td>0.004800</td>\n",
              "      <td>0.0</td>\n",
              "      <td>26741.000000</td>\n",
              "      <td>999.0</td>\n",
              "      <td>...</td>\n",
              "      <td>-0.014873</td>\n",
              "      <td>-4.210300e-05</td>\n",
              "      <td>6542.850000</td>\n",
              "      <td>87.783000</td>\n",
              "      <td>183.393000</td>\n",
              "      <td>73.279000</td>\n",
              "      <td>1961.000000</td>\n",
              "      <td>NaN</td>\n",
              "      <td>3.142499e+06</td>\n",
              "      <td>1.860926e+08</td>\n",
              "    </tr>\n",
              "    <tr>\n",
              "      <th>25%</th>\n",
              "      <td>2.0</td>\n",
              "      <td>13.452144</td>\n",
              "      <td>0.000725</td>\n",
              "      <td>53.055300</td>\n",
              "      <td>71.987350</td>\n",
              "      <td>77.363475</td>\n",
              "      <td>90.001600</td>\n",
              "      <td>0.0</td>\n",
              "      <td>33965.750000</td>\n",
              "      <td>999.0</td>\n",
              "      <td>...</td>\n",
              "      <td>0.000001</td>\n",
              "      <td>0.000000e+00</td>\n",
              "      <td>6956.246750</td>\n",
              "      <td>96.232750</td>\n",
              "      <td>599.876000</td>\n",
              "      <td>546.115000</td>\n",
              "      <td>1997.000000</td>\n",
              "      <td>NaN</td>\n",
              "      <td>3.194431e+06</td>\n",
              "      <td>1.885665e+08</td>\n",
              "    </tr>\n",
              "    <tr>\n",
              "      <th>50%</th>\n",
              "      <td>2.0</td>\n",
              "      <td>14.277052</td>\n",
              "      <td>0.003416</td>\n",
              "      <td>86.369200</td>\n",
              "      <td>189.460250</td>\n",
              "      <td>150.483900</td>\n",
              "      <td>206.957400</td>\n",
              "      <td>0.0</td>\n",
              "      <td>40165.500000</td>\n",
              "      <td>999.0</td>\n",
              "      <td>...</td>\n",
              "      <td>0.000010</td>\n",
              "      <td>0.000000e+00</td>\n",
              "      <td>7177.549000</td>\n",
              "      <td>100.861000</td>\n",
              "      <td>843.686000</td>\n",
              "      <td>702.433500</td>\n",
              "      <td>2002.000000</td>\n",
              "      <td>NaN</td>\n",
              "      <td>3.194950e+06</td>\n",
              "      <td>1.885986e+08</td>\n",
              "    </tr>\n",
              "    <tr>\n",
              "      <th>75%</th>\n",
              "      <td>2.0</td>\n",
              "      <td>14.963745</td>\n",
              "      <td>0.013505</td>\n",
              "      <td>98.565125</td>\n",
              "      <td>292.484750</td>\n",
              "      <td>258.328550</td>\n",
              "      <td>284.163200</td>\n",
              "      <td>0.0</td>\n",
              "      <td>45173.500000</td>\n",
              "      <td>999.0</td>\n",
              "      <td>...</td>\n",
              "      <td>0.000032</td>\n",
              "      <td>0.000000e+00</td>\n",
              "      <td>7468.055000</td>\n",
              "      <td>107.046000</td>\n",
              "      <td>1207.919500</td>\n",
              "      <td>831.959750</td>\n",
              "      <td>2018.000000</td>\n",
              "      <td>NaN</td>\n",
              "      <td>3.195064e+06</td>\n",
              "      <td>1.886107e+08</td>\n",
              "    </tr>\n",
              "    <tr>\n",
              "      <th>max</th>\n",
              "      <td>2.0</td>\n",
              "      <td>16.404097</td>\n",
              "      <td>0.897218</td>\n",
              "      <td>144.586200</td>\n",
              "      <td>359.967900</td>\n",
              "      <td>359.989900</td>\n",
              "      <td>359.981900</td>\n",
              "      <td>0.0</td>\n",
              "      <td>270288.000000</td>\n",
              "      <td>999.0</td>\n",
              "      <td>...</td>\n",
              "      <td>0.225321</td>\n",
              "      <td>1.654800e-03</td>\n",
              "      <td>304049.635000</td>\n",
              "      <td>27808.429000</td>\n",
              "      <td>372136.402000</td>\n",
              "      <td>224547.015000</td>\n",
              "      <td>2021.000000</td>\n",
              "      <td>NaN</td>\n",
              "      <td>3.195727e+06</td>\n",
              "      <td>1.886250e+08</td>\n",
              "    </tr>\n",
              "  </tbody>\n",
              "</table>\n",
              "<p>8 rows × 22 columns</p>\n",
              "</div>\n",
              "      <button class=\"colab-df-convert\" onclick=\"convertToInteractive('df-5843f435-a795-4845-a468-1396e7d9d443')\"\n",
              "              title=\"Convert this dataframe to an interactive table.\"\n",
              "              style=\"display:none;\">\n",
              "        \n",
              "  <svg xmlns=\"http://www.w3.org/2000/svg\" height=\"24px\"viewBox=\"0 0 24 24\"\n",
              "       width=\"24px\">\n",
              "    <path d=\"M0 0h24v24H0V0z\" fill=\"none\"/>\n",
              "    <path d=\"M18.56 5.44l.94 2.06.94-2.06 2.06-.94-2.06-.94-.94-2.06-.94 2.06-2.06.94zm-11 1L8.5 8.5l.94-2.06 2.06-.94-2.06-.94L8.5 2.5l-.94 2.06-2.06.94zm10 10l.94 2.06.94-2.06 2.06-.94-2.06-.94-.94-2.06-.94 2.06-2.06.94z\"/><path d=\"M17.41 7.96l-1.37-1.37c-.4-.4-.92-.59-1.43-.59-.52 0-1.04.2-1.43.59L10.3 9.45l-7.72 7.72c-.78.78-.78 2.05 0 2.83L4 21.41c.39.39.9.59 1.41.59.51 0 1.02-.2 1.41-.59l7.78-7.78 2.81-2.81c.8-.78.8-2.07 0-2.86zM5.41 20L4 18.59l7.72-7.72 1.47 1.35L5.41 20z\"/>\n",
              "  </svg>\n",
              "      </button>\n",
              "      \n",
              "  <style>\n",
              "    .colab-df-container {\n",
              "      display:flex;\n",
              "      flex-wrap:wrap;\n",
              "      gap: 12px;\n",
              "    }\n",
              "\n",
              "    .colab-df-convert {\n",
              "      background-color: #E8F0FE;\n",
              "      border: none;\n",
              "      border-radius: 50%;\n",
              "      cursor: pointer;\n",
              "      display: none;\n",
              "      fill: #1967D2;\n",
              "      height: 32px;\n",
              "      padding: 0 0 0 0;\n",
              "      width: 32px;\n",
              "    }\n",
              "\n",
              "    .colab-df-convert:hover {\n",
              "      background-color: #E2EBFA;\n",
              "      box-shadow: 0px 1px 2px rgba(60, 64, 67, 0.3), 0px 1px 3px 1px rgba(60, 64, 67, 0.15);\n",
              "      fill: #174EA6;\n",
              "    }\n",
              "\n",
              "    [theme=dark] .colab-df-convert {\n",
              "      background-color: #3B4455;\n",
              "      fill: #D2E3FC;\n",
              "    }\n",
              "\n",
              "    [theme=dark] .colab-df-convert:hover {\n",
              "      background-color: #434B5C;\n",
              "      box-shadow: 0px 1px 3px 1px rgba(0, 0, 0, 0.15);\n",
              "      filter: drop-shadow(0px 1px 2px rgba(0, 0, 0, 0.3));\n",
              "      fill: #FFFFFF;\n",
              "    }\n",
              "  </style>\n",
              "\n",
              "      <script>\n",
              "        const buttonEl =\n",
              "          document.querySelector('#df-5843f435-a795-4845-a468-1396e7d9d443 button.colab-df-convert');\n",
              "        buttonEl.style.display =\n",
              "          google.colab.kernel.accessAllowed ? 'block' : 'none';\n",
              "\n",
              "        async function convertToInteractive(key) {\n",
              "          const element = document.querySelector('#df-5843f435-a795-4845-a468-1396e7d9d443');\n",
              "          const dataTable =\n",
              "            await google.colab.kernel.invokeFunction('convertToInteractive',\n",
              "                                                     [key], {});\n",
              "          if (!dataTable) return;\n",
              "\n",
              "          const docLinkHtml = 'Like what you see? Visit the ' +\n",
              "            '<a target=\"_blank\" href=https://colab.research.google.com/notebooks/data_table.ipynb>data table notebook</a>'\n",
              "            + ' to learn more about interactive tables.';\n",
              "          element.innerHTML = '';\n",
              "          dataTable['output_type'] = 'display_data';\n",
              "          await google.colab.output.renderOutput(dataTable, element);\n",
              "          const docLink = document.createElement('div');\n",
              "          docLink.innerHTML = docLinkHtml;\n",
              "          element.appendChild(docLink);\n",
              "        }\n",
              "      </script>\n",
              "    </div>\n",
              "  </div>\n",
              "  "
            ]
          },
          "metadata": {},
          "execution_count": 12
        }
      ]
    },
    {
      "cell_type": "markdown",
      "source": [
        "\n",
        "## **Preparação dos dados**"
      ],
      "metadata": {
        "id": "SetA-0bLgCOc"
      }
    },
    {
      "cell_type": "code",
      "source": [
        "#escolhendo colunas as quais vamos analisar\n",
        "dados1 = dados[['OBJECT_NAME', 'OBJECT_TYPE', 'RCS_SIZE', 'COUNTRY_CODE', 'LAUNCH_DATE', 'SITE', 'SEMIMAJOR_AXIS', 'PERIOD']]\n",
        "dados1.head()"
      ],
      "metadata": {
        "colab": {
          "base_uri": "https://localhost:8080/",
          "height": 206
        },
        "id": "J4N38TXaOLQu",
        "outputId": "a0ca9470-8158-45dd-ab19-19a5cd949c6c"
      },
      "execution_count": null,
      "outputs": [
        {
          "output_type": "execute_result",
          "data": {
            "text/plain": [
              "       OBJECT_NAME OBJECT_TYPE RCS_SIZE COUNTRY_CODE  LAUNCH_DATE   SITE  \\\n",
              "0  ARIANE 42P+ DEB      DEBRIS   MEDIUM           FR       1992.0  FRGUI   \n",
              "1         SL-8 DEB      DEBRIS    SMALL          CIS       1979.0  PKMTR   \n",
              "2           GSAT 1     PAYLOAD    LARGE          IND       2001.0    SRI   \n",
              "3         CZ-4 DEB      DEBRIS    SMALL          PRC       1999.0    TSC   \n",
              "4         CZ-4 DEB      DEBRIS    SMALL          PRC       1999.0    TSC   \n",
              "\n",
              "   SEMIMAJOR_AXIS    PERIOD  \n",
              "0       20668.618   492.864  \n",
              "1        7358.038   104.689  \n",
              "2       41197.852  1386.984  \n",
              "3        7015.076    97.456  \n",
              "4        7031.400    97.796  "
            ],
            "text/html": [
              "\n",
              "  <div id=\"df-10090653-e0d1-451b-aba9-9788620fcd19\">\n",
              "    <div class=\"colab-df-container\">\n",
              "      <div>\n",
              "<style scoped>\n",
              "    .dataframe tbody tr th:only-of-type {\n",
              "        vertical-align: middle;\n",
              "    }\n",
              "\n",
              "    .dataframe tbody tr th {\n",
              "        vertical-align: top;\n",
              "    }\n",
              "\n",
              "    .dataframe thead th {\n",
              "        text-align: right;\n",
              "    }\n",
              "</style>\n",
              "<table border=\"1\" class=\"dataframe\">\n",
              "  <thead>\n",
              "    <tr style=\"text-align: right;\">\n",
              "      <th></th>\n",
              "      <th>OBJECT_NAME</th>\n",
              "      <th>OBJECT_TYPE</th>\n",
              "      <th>RCS_SIZE</th>\n",
              "      <th>COUNTRY_CODE</th>\n",
              "      <th>LAUNCH_DATE</th>\n",
              "      <th>SITE</th>\n",
              "      <th>SEMIMAJOR_AXIS</th>\n",
              "      <th>PERIOD</th>\n",
              "    </tr>\n",
              "  </thead>\n",
              "  <tbody>\n",
              "    <tr>\n",
              "      <th>0</th>\n",
              "      <td>ARIANE 42P+ DEB</td>\n",
              "      <td>DEBRIS</td>\n",
              "      <td>MEDIUM</td>\n",
              "      <td>FR</td>\n",
              "      <td>1992.0</td>\n",
              "      <td>FRGUI</td>\n",
              "      <td>20668.618</td>\n",
              "      <td>492.864</td>\n",
              "    </tr>\n",
              "    <tr>\n",
              "      <th>1</th>\n",
              "      <td>SL-8 DEB</td>\n",
              "      <td>DEBRIS</td>\n",
              "      <td>SMALL</td>\n",
              "      <td>CIS</td>\n",
              "      <td>1979.0</td>\n",
              "      <td>PKMTR</td>\n",
              "      <td>7358.038</td>\n",
              "      <td>104.689</td>\n",
              "    </tr>\n",
              "    <tr>\n",
              "      <th>2</th>\n",
              "      <td>GSAT 1</td>\n",
              "      <td>PAYLOAD</td>\n",
              "      <td>LARGE</td>\n",
              "      <td>IND</td>\n",
              "      <td>2001.0</td>\n",
              "      <td>SRI</td>\n",
              "      <td>41197.852</td>\n",
              "      <td>1386.984</td>\n",
              "    </tr>\n",
              "    <tr>\n",
              "      <th>3</th>\n",
              "      <td>CZ-4 DEB</td>\n",
              "      <td>DEBRIS</td>\n",
              "      <td>SMALL</td>\n",
              "      <td>PRC</td>\n",
              "      <td>1999.0</td>\n",
              "      <td>TSC</td>\n",
              "      <td>7015.076</td>\n",
              "      <td>97.456</td>\n",
              "    </tr>\n",
              "    <tr>\n",
              "      <th>4</th>\n",
              "      <td>CZ-4 DEB</td>\n",
              "      <td>DEBRIS</td>\n",
              "      <td>SMALL</td>\n",
              "      <td>PRC</td>\n",
              "      <td>1999.0</td>\n",
              "      <td>TSC</td>\n",
              "      <td>7031.400</td>\n",
              "      <td>97.796</td>\n",
              "    </tr>\n",
              "  </tbody>\n",
              "</table>\n",
              "</div>\n",
              "      <button class=\"colab-df-convert\" onclick=\"convertToInteractive('df-10090653-e0d1-451b-aba9-9788620fcd19')\"\n",
              "              title=\"Convert this dataframe to an interactive table.\"\n",
              "              style=\"display:none;\">\n",
              "        \n",
              "  <svg xmlns=\"http://www.w3.org/2000/svg\" height=\"24px\"viewBox=\"0 0 24 24\"\n",
              "       width=\"24px\">\n",
              "    <path d=\"M0 0h24v24H0V0z\" fill=\"none\"/>\n",
              "    <path d=\"M18.56 5.44l.94 2.06.94-2.06 2.06-.94-2.06-.94-.94-2.06-.94 2.06-2.06.94zm-11 1L8.5 8.5l.94-2.06 2.06-.94-2.06-.94L8.5 2.5l-.94 2.06-2.06.94zm10 10l.94 2.06.94-2.06 2.06-.94-2.06-.94-.94-2.06-.94 2.06-2.06.94z\"/><path d=\"M17.41 7.96l-1.37-1.37c-.4-.4-.92-.59-1.43-.59-.52 0-1.04.2-1.43.59L10.3 9.45l-7.72 7.72c-.78.78-.78 2.05 0 2.83L4 21.41c.39.39.9.59 1.41.59.51 0 1.02-.2 1.41-.59l7.78-7.78 2.81-2.81c.8-.78.8-2.07 0-2.86zM5.41 20L4 18.59l7.72-7.72 1.47 1.35L5.41 20z\"/>\n",
              "  </svg>\n",
              "      </button>\n",
              "      \n",
              "  <style>\n",
              "    .colab-df-container {\n",
              "      display:flex;\n",
              "      flex-wrap:wrap;\n",
              "      gap: 12px;\n",
              "    }\n",
              "\n",
              "    .colab-df-convert {\n",
              "      background-color: #E8F0FE;\n",
              "      border: none;\n",
              "      border-radius: 50%;\n",
              "      cursor: pointer;\n",
              "      display: none;\n",
              "      fill: #1967D2;\n",
              "      height: 32px;\n",
              "      padding: 0 0 0 0;\n",
              "      width: 32px;\n",
              "    }\n",
              "\n",
              "    .colab-df-convert:hover {\n",
              "      background-color: #E2EBFA;\n",
              "      box-shadow: 0px 1px 2px rgba(60, 64, 67, 0.3), 0px 1px 3px 1px rgba(60, 64, 67, 0.15);\n",
              "      fill: #174EA6;\n",
              "    }\n",
              "\n",
              "    [theme=dark] .colab-df-convert {\n",
              "      background-color: #3B4455;\n",
              "      fill: #D2E3FC;\n",
              "    }\n",
              "\n",
              "    [theme=dark] .colab-df-convert:hover {\n",
              "      background-color: #434B5C;\n",
              "      box-shadow: 0px 1px 3px 1px rgba(0, 0, 0, 0.15);\n",
              "      filter: drop-shadow(0px 1px 2px rgba(0, 0, 0, 0.3));\n",
              "      fill: #FFFFFF;\n",
              "    }\n",
              "  </style>\n",
              "\n",
              "      <script>\n",
              "        const buttonEl =\n",
              "          document.querySelector('#df-10090653-e0d1-451b-aba9-9788620fcd19 button.colab-df-convert');\n",
              "        buttonEl.style.display =\n",
              "          google.colab.kernel.accessAllowed ? 'block' : 'none';\n",
              "\n",
              "        async function convertToInteractive(key) {\n",
              "          const element = document.querySelector('#df-10090653-e0d1-451b-aba9-9788620fcd19');\n",
              "          const dataTable =\n",
              "            await google.colab.kernel.invokeFunction('convertToInteractive',\n",
              "                                                     [key], {});\n",
              "          if (!dataTable) return;\n",
              "\n",
              "          const docLinkHtml = 'Like what you see? Visit the ' +\n",
              "            '<a target=\"_blank\" href=https://colab.research.google.com/notebooks/data_table.ipynb>data table notebook</a>'\n",
              "            + ' to learn more about interactive tables.';\n",
              "          element.innerHTML = '';\n",
              "          dataTable['output_type'] = 'display_data';\n",
              "          await google.colab.output.renderOutput(dataTable, element);\n",
              "          const docLink = document.createElement('div');\n",
              "          docLink.innerHTML = docLinkHtml;\n",
              "          element.appendChild(docLink);\n",
              "        }\n",
              "      </script>\n",
              "    </div>\n",
              "  </div>\n",
              "  "
            ]
          },
          "metadata": {},
          "execution_count": 13
        }
      ]
    },
    {
      "cell_type": "code",
      "source": [
        "dados1.info()"
      ],
      "metadata": {
        "colab": {
          "base_uri": "https://localhost:8080/"
        },
        "id": "C3kP7-dwYdLx",
        "outputId": "b1c62230-7f24-4f30-abbd-d6146c54a682"
      },
      "execution_count": null,
      "outputs": [
        {
          "output_type": "stream",
          "name": "stdout",
          "text": [
            "<class 'pandas.core.frame.DataFrame'>\n",
            "RangeIndex: 14372 entries, 0 to 14371\n",
            "Data columns (total 8 columns):\n",
            " #   Column          Non-Null Count  Dtype  \n",
            "---  ------          --------------  -----  \n",
            " 0   OBJECT_NAME     14372 non-null  object \n",
            " 1   OBJECT_TYPE     14372 non-null  object \n",
            " 2   RCS_SIZE        14174 non-null  object \n",
            " 3   COUNTRY_CODE    14333 non-null  object \n",
            " 4   LAUNCH_DATE     14333 non-null  float64\n",
            " 5   SITE            14333 non-null  object \n",
            " 6   SEMIMAJOR_AXIS  14372 non-null  float64\n",
            " 7   PERIOD          14372 non-null  float64\n",
            "dtypes: float64(3), object(5)\n",
            "memory usage: 898.4+ KB\n"
          ]
        }
      ]
    },
    {
      "cell_type": "code",
      "source": [
        "#Verificar entre essas colunas quais têm dados faltantes\n",
        "dados1.isna().sum()"
      ],
      "metadata": {
        "colab": {
          "base_uri": "https://localhost:8080/"
        },
        "id": "k51v2vYqWhxj",
        "outputId": "441af3ab-6324-4286-ed4c-9ca781059e98"
      },
      "execution_count": null,
      "outputs": [
        {
          "output_type": "execute_result",
          "data": {
            "text/plain": [
              "OBJECT_NAME         0\n",
              "OBJECT_TYPE         0\n",
              "RCS_SIZE          198\n",
              "COUNTRY_CODE       39\n",
              "LAUNCH_DATE        39\n",
              "SITE               39\n",
              "SEMIMAJOR_AXIS      0\n",
              "PERIOD              0\n",
              "dtype: int64"
            ]
          },
          "metadata": {},
          "execution_count": 15
        }
      ]
    },
    {
      "cell_type": "code",
      "source": [
        "#verificando dados duplicados na base\n",
        "objects_unique = dados1.OBJECT_NAME.unique()\n",
        "len(objects_unique)"
      ],
      "metadata": {
        "colab": {
          "base_uri": "https://localhost:8080/"
        },
        "id": "SM1mjnjcdmoc",
        "outputId": "301395c4-01f8-44e0-b542-c8b731461d51"
      },
      "execution_count": null,
      "outputs": [
        {
          "output_type": "execute_result",
          "data": {
            "text/plain": [
              "5372"
            ]
          },
          "metadata": {},
          "execution_count": 16
        }
      ]
    },
    {
      "cell_type": "code",
      "source": [
        "#drop_duplicates para excluir de uma nova base criada os valores duplicados\n",
        "space_objects = dados1.drop_duplicates(subset=['OBJECT_NAME'])\n",
        "space_objects.info()"
      ],
      "metadata": {
        "colab": {
          "base_uri": "https://localhost:8080/"
        },
        "id": "pehe2lVMeo3R",
        "outputId": "a6fa3b3d-82b5-4d32-d89d-9ec996ea5ade"
      },
      "execution_count": null,
      "outputs": [
        {
          "output_type": "stream",
          "name": "stdout",
          "text": [
            "<class 'pandas.core.frame.DataFrame'>\n",
            "Int64Index: 5372 entries, 0 to 14333\n",
            "Data columns (total 8 columns):\n",
            " #   Column          Non-Null Count  Dtype  \n",
            "---  ------          --------------  -----  \n",
            " 0   OBJECT_NAME     5372 non-null   object \n",
            " 1   OBJECT_TYPE     5372 non-null   object \n",
            " 2   RCS_SIZE        5358 non-null   object \n",
            " 3   COUNTRY_CODE    5371 non-null   object \n",
            " 4   LAUNCH_DATE     5371 non-null   float64\n",
            " 5   SITE            5371 non-null   object \n",
            " 6   SEMIMAJOR_AXIS  5372 non-null   float64\n",
            " 7   PERIOD          5372 non-null   float64\n",
            "dtypes: float64(3), object(5)\n",
            "memory usage: 377.7+ KB\n"
          ]
        }
      ]
    },
    {
      "cell_type": "markdown",
      "source": [
        "## **Análise dos dados gerais**"
      ],
      "metadata": {
        "id": "-OImPAgyXvdr"
      }
    },
    {
      "cell_type": "markdown",
      "source": [
        "Vamos ver a quantidade de cada tipo de objeto:"
      ],
      "metadata": {
        "id": "OSRsBnA2iDIR"
      }
    },
    {
      "cell_type": "code",
      "source": [
        "space_objects['OBJECT_TYPE'].value_counts(normalize=True)*100\n"
      ],
      "metadata": {
        "colab": {
          "base_uri": "https://localhost:8080/"
        },
        "id": "Dd5xqXksmIgW",
        "outputId": "f1a5a12b-5307-4ddd-97ac-b1e7f6bd2050"
      },
      "execution_count": null,
      "outputs": [
        {
          "output_type": "execute_result",
          "data": {
            "text/plain": [
              "PAYLOAD        92.069993\n",
              "DEBRIS          5.379747\n",
              "ROCKET BODY     1.545048\n",
              "TBA             1.005212\n",
              "Name: OBJECT_TYPE, dtype: float64"
            ]
          },
          "metadata": {},
          "execution_count": 20
        }
      ]
    },
    {
      "cell_type": "code",
      "source": [
        "a1 = space_objects.groupby(['OBJECT_TYPE']).OBJECT_TYPE.size().plot(kind='bar', figsize=(7, 5))\n",
        "a1.set_title(\"Tipos de objetos\", fontsize= 18)\n",
        "a1.set_xlabel(\"Objeto\", fontsize=12)\n",
        "a1.set_ylabel(\"Quantidade\", fontsize=12)\n",
        "plt.show()\n"
      ],
      "metadata": {
        "colab": {
          "base_uri": "https://localhost:8080/",
          "height": 418
        },
        "id": "NjE0Alrff7fx",
        "outputId": "4d4c94b9-0aad-4628-9283-b01403e08922"
      },
      "execution_count": null,
      "outputs": [
        {
          "output_type": "display_data",
          "data": {
            "text/plain": [
              "<Figure size 504x360 with 1 Axes>"
            ],
            "image/png": "[encoded data removed]"
          },
          "metadata": {
            "needs_background": "light"
          }
        }
      ]
    },
    {
      "cell_type": "markdown",
      "source": [
        "Podemos ver que a maior parte dos objetos catalogados no dataset se referem a 'Payloads' que são a carga paga enviada no lançamento dos foguetes em determinadas missões.\n",
        "\n",
        "*   92% dos objetos são de cargas paga\n",
        "*   5% são detritos espaciais (podem ser ferramentas, pedaços de satélites, restos de acidentes, etc)\n",
        "*   1,5% são partes do corpo de foguete.\n",
        "*   1% não foram identificados\n",
        "\n",
        "\n",
        "\n",
        "\n"
      ],
      "metadata": {
        "id": "zoHQ82XRiNZB"
      }
    },
    {
      "cell_type": "code",
      "source": [
        "space_objects['RCS_SIZE'].value_counts(normalize=True)*100"
      ],
      "metadata": {
        "colab": {
          "base_uri": "https://localhost:8080/"
        },
        "id": "QZ-R42JZsUxa",
        "outputId": "a46f7638-575d-41bc-f153-4e1c9a2dfa2d"
      },
      "execution_count": null,
      "outputs": [
        {
          "output_type": "execute_result",
          "data": {
            "text/plain": [
              "LARGE     62.299365\n",
              "SMALL     19.596865\n",
              "MEDIUM    18.103770\n",
              "Name: RCS_SIZE, dtype: float64"
            ]
          },
          "metadata": {},
          "execution_count": 42
        }
      ]
    },
    {
      "cell_type": "code",
      "source": [
        "a1 = space_objects.groupby(['RCS_SIZE']).RCS_SIZE.size().plot(kind='barh', figsize=(7, 5))\n",
        "a1.set_title(\"Tamanho dos objetos\", fontsize= 18)\n",
        "a1.set_xlabel(\"Quantidade\", fontsize=12)\n",
        "a1.set_ylabel(\"Tamanho\", fontsize=12)\n",
        "plt.show()"
      ],
      "metadata": {
        "colab": {
          "base_uri": "https://localhost:8080/",
          "height": 357
        },
        "id": "mPN4DHujznfg",
        "outputId": "a89179cf-1e33-4c02-f2bf-bf49277c122a"
      },
      "execution_count": null,
      "outputs": [
        {
          "output_type": "display_data",
          "data": {
            "text/plain": [
              "<Figure size 504x360 with 1 Axes>"
            ],
            "image/png": "[encoded data removed]"
          },
          "metadata": {
            "needs_background": "light"
          }
        }
      ]
    },
    {
      "cell_type": "markdown",
      "source": [
        "Vemos aqui que como a maior parte dos objetos são payload a quantidade de objetos grandes é grande, o que já era esperado."
      ],
      "metadata": {
        "id": "_ZiuItH_1fGa"
      }
    },
    {
      "cell_type": "code",
      "source": [
        "df_date = space_objects.sort_values(['LAUNCH_DATE'])\n",
        "df_date.head()"
      ],
      "metadata": {
        "colab": {
          "base_uri": "https://localhost:8080/",
          "height": 206
        },
        "id": "ICpLydK819yB",
        "outputId": "2c87f332-ec33-46a8-948c-bcfd0f11a165"
      },
      "execution_count": null,
      "outputs": [
        {
          "output_type": "execute_result",
          "data": {
            "text/plain": [
              "               OBJECT_NAME OBJECT_TYPE RCS_SIZE COUNTRY_CODE  LAUNCH_DATE  \\\n",
              "223            MIDAS 4 DEB      DEBRIS   MEDIUM           US       1961.0   \n",
              "13820  THOR ABLESTAR DEB *      DEBRIS    SMALL           US       1961.0   \n",
              "877            TIROS 6 DEB      DEBRIS    SMALL           US       1962.0   \n",
              "9510      WESTFORD NEEDLES      DEBRIS   MEDIUM           US       1963.0   \n",
              "6184     THOR ABLESTAR DEB      DEBRIS    SMALL           US       1963.0   \n",
              "\n",
              "        SITE  SEMIMAJOR_AXIS   PERIOD  \n",
              "223    AFWTR       10011.564  166.155  \n",
              "13820  AFETR        7870.148  115.807  \n",
              "877    AFETR        7002.576   97.196  \n",
              "9510   AFWTR        9995.279  165.749  \n",
              "6184   AFWTR        7468.669  107.059  "
            ],
            "text/html": [
              "\n",
              "  <div id=\"df-d9868ea8-2ad9-4b5d-aa81-edd457348438\">\n",
              "    <div class=\"colab-df-container\">\n",
              "      <div>\n",
              "<style scoped>\n",
              "    .dataframe tbody tr th:only-of-type {\n",
              "        vertical-align: middle;\n",
              "    }\n",
              "\n",
              "    .dataframe tbody tr th {\n",
              "        vertical-align: top;\n",
              "    }\n",
              "\n",
              "    .dataframe thead th {\n",
              "        text-align: right;\n",
              "    }\n",
              "</style>\n",
              "<table border=\"1\" class=\"dataframe\">\n",
              "  <thead>\n",
              "    <tr style=\"text-align: right;\">\n",
              "      <th></th>\n",
              "      <th>OBJECT_NAME</th>\n",
              "      <th>OBJECT_TYPE</th>\n",
              "      <th>RCS_SIZE</th>\n",
              "      <th>COUNTRY_CODE</th>\n",
              "      <th>LAUNCH_DATE</th>\n",
              "      <th>SITE</th>\n",
              "      <th>SEMIMAJOR_AXIS</th>\n",
              "      <th>PERIOD</th>\n",
              "    </tr>\n",
              "  </thead>\n",
              "  <tbody>\n",
              "    <tr>\n",
              "      <th>223</th>\n",
              "      <td>MIDAS 4 DEB</td>\n",
              "      <td>DEBRIS</td>\n",
              "      <td>MEDIUM</td>\n",
              "      <td>US</td>\n",
              "      <td>1961.0</td>\n",
              "      <td>AFWTR</td>\n",
              "      <td>10011.564</td>\n",
              "      <td>166.155</td>\n",
              "    </tr>\n",
              "    <tr>\n",
              "      <th>13820</th>\n",
              "      <td>THOR ABLESTAR DEB *</td>\n",
              "      <td>DEBRIS</td>\n",
              "      <td>SMALL</td>\n",
              "      <td>US</td>\n",
              "      <td>1961.0</td>\n",
              "      <td>AFETR</td>\n",
              "      <td>7870.148</td>\n",
              "      <td>115.807</td>\n",
              "    </tr>\n",
              "    <tr>\n",
              "      <th>877</th>\n",
              "      <td>TIROS 6 DEB</td>\n",
              "      <td>DEBRIS</td>\n",
              "      <td>SMALL</td>\n",
              "      <td>US</td>\n",
              "      <td>1962.0</td>\n",
              "      <td>AFETR</td>\n",
              "      <td>7002.576</td>\n",
              "      <td>97.196</td>\n",
              "    </tr>\n",
              "    <tr>\n",
              "      <th>9510</th>\n",
              "      <td>WESTFORD NEEDLES</td>\n",
              "      <td>DEBRIS</td>\n",
              "      <td>MEDIUM</td>\n",
              "      <td>US</td>\n",
              "      <td>1963.0</td>\n",
              "      <td>AFWTR</td>\n",
              "      <td>9995.279</td>\n",
              "      <td>165.749</td>\n",
              "    </tr>\n",
              "    <tr>\n",
              "      <th>6184</th>\n",
              "      <td>THOR ABLESTAR DEB</td>\n",
              "      <td>DEBRIS</td>\n",
              "      <td>SMALL</td>\n",
              "      <td>US</td>\n",
              "      <td>1963.0</td>\n",
              "      <td>AFWTR</td>\n",
              "      <td>7468.669</td>\n",
              "      <td>107.059</td>\n",
              "    </tr>\n",
              "  </tbody>\n",
              "</table>\n",
              "</div>\n",
              "      <button class=\"colab-df-convert\" onclick=\"convertToInteractive('df-d9868ea8-2ad9-4b5d-aa81-edd457348438')\"\n",
              "              title=\"Convert this dataframe to an interactive table.\"\n",
              "              style=\"display:none;\">\n",
              "        \n",
              "  <svg xmlns=\"http://www.w3.org/2000/svg\" height=\"24px\"viewBox=\"0 0 24 24\"\n",
              "       width=\"24px\">\n",
              "    <path d=\"M0 0h24v24H0V0z\" fill=\"none\"/>\n",
              "    <path d=\"M18.56 5.44l.94 2.06.94-2.06 2.06-.94-2.06-.94-.94-2.06-.94 2.06-2.06.94zm-11 1L8.5 8.5l.94-2.06 2.06-.94-2.06-.94L8.5 2.5l-.94 2.06-2.06.94zm10 10l.94 2.06.94-2.06 2.06-.94-2.06-.94-.94-2.06-.94 2.06-2.06.94z\"/><path d=\"M17.41 7.96l-1.37-1.37c-.4-.4-.92-.59-1.43-.59-.52 0-1.04.2-1.43.59L10.3 9.45l-7.72 7.72c-.78.78-.78 2.05 0 2.83L4 21.41c.39.39.9.59 1.41.59.51 0 1.02-.2 1.41-.59l7.78-7.78 2.81-2.81c.8-.78.8-2.07 0-2.86zM5.41 20L4 18.59l7.72-7.72 1.47 1.35L5.41 20z\"/>\n",
              "  </svg>\n",
              "      </button>\n",
              "      \n",
              "  <style>\n",
              "    .colab-df-container {\n",
              "      display:flex;\n",
              "      flex-wrap:wrap;\n",
              "      gap: 12px;\n",
              "    }\n",
              "\n",
              "    .colab-df-convert {\n",
              "      background-color: #E8F0FE;\n",
              "      border: none;\n",
              "      border-radius: 50%;\n",
              "      cursor: pointer;\n",
              "      display: none;\n",
              "      fill: #1967D2;\n",
              "      height: 32px;\n",
              "      padding: 0 0 0 0;\n",
              "      width: 32px;\n",
              "    }\n",
              "\n",
              "    .colab-df-convert:hover {\n",
              "      background-color: #E2EBFA;\n",
              "      box-shadow: 0px 1px 2px rgba(60, 64, 67, 0.3), 0px 1px 3px 1px rgba(60, 64, 67, 0.15);\n",
              "      fill: #174EA6;\n",
              "    }\n",
              "\n",
              "    [theme=dark] .colab-df-convert {\n",
              "      background-color: #3B4455;\n",
              "      fill: #D2E3FC;\n",
              "    }\n",
              "\n",
              "    [theme=dark] .colab-df-convert:hover {\n",
              "      background-color: #434B5C;\n",
              "      box-shadow: 0px 1px 3px 1px rgba(0, 0, 0, 0.15);\n",
              "      filter: drop-shadow(0px 1px 2px rgba(0, 0, 0, 0.3));\n",
              "      fill: #FFFFFF;\n",
              "    }\n",
              "  </style>\n",
              "\n",
              "      <script>\n",
              "        const buttonEl =\n",
              "          document.querySelector('#df-d9868ea8-2ad9-4b5d-aa81-edd457348438 button.colab-df-convert');\n",
              "        buttonEl.style.display =\n",
              "          google.colab.kernel.accessAllowed ? 'block' : 'none';\n",
              "\n",
              "        async function convertToInteractive(key) {\n",
              "          const element = document.querySelector('#df-d9868ea8-2ad9-4b5d-aa81-edd457348438');\n",
              "          const dataTable =\n",
              "            await google.colab.kernel.invokeFunction('convertToInteractive',\n",
              "                                                     [key], {});\n",
              "          if (!dataTable) return;\n",
              "\n",
              "          const docLinkHtml = 'Like what you see? Visit the ' +\n",
              "            '<a target=\"_blank\" href=https://colab.research.google.com/notebooks/data_table.ipynb>data table notebook</a>'\n",
              "            + ' to learn more about interactive tables.';\n",
              "          element.innerHTML = '';\n",
              "          dataTable['output_type'] = 'display_data';\n",
              "          await google.colab.output.renderOutput(dataTable, element);\n",
              "          const docLink = document.createElement('div');\n",
              "          docLink.innerHTML = docLinkHtml;\n",
              "          element.appendChild(docLink);\n",
              "        }\n",
              "      </script>\n",
              "    </div>\n",
              "  </div>\n",
              "  "
            ]
          },
          "metadata": {},
          "execution_count": 64
        }
      ]
    },
    {
      "cell_type": "code",
      "source": [
        "a1 = df_date.groupby(['LAUNCH_DATE']).LAUNCH_DATE.count().plot(kind='bar', figsize=(23, 5))\n",
        "a1.set_xlabel(\"Ano\", fontsize=12)\n",
        "a1.set_ylabel(\"Quantidade\", fontsize=12)\n",
        "plt.show()\n"
      ],
      "metadata": {
        "colab": {
          "base_uri": "https://localhost:8080/",
          "height": 302
        },
        "id": "IK-JOMnu2BRu",
        "outputId": "dc91498f-396e-4bc2-f70e-4db89bcfe39c"
      },
      "execution_count": null,
      "outputs": [
        {
          "output_type": "display_data",
          "data": {
            "text/plain": [
              "<Figure size 1656x360 with 1 Axes>"
            ],
            "image/png": "[encoded data removed]"
          },
          "metadata": {
            "needs_background": "light"
          }
        }
      ]
    },
    {
      "cell_type": "markdown",
      "source": [
        "Percebems aqui que ao longo dos anos o número de objetos lançados aumenta de forma bem perceptível. \n",
        "Um valor próximo da metade do total de objetos catalogados no dataset **(48%)** foi lançado entre os anos de 2020 e 2021."
      ],
      "metadata": {
        "id": "OiyIrT822a_L"
      }
    },
    {
      "cell_type": "code",
      "source": [
        "df_2021 = space_objects[space_objects['LAUNCH_DATE'] == 2021.0]\n",
        "df_2021.count()\n"
      ],
      "metadata": {
        "colab": {
          "base_uri": "https://localhost:8080/"
        },
        "id": "Sb36GQxTIaAG",
        "outputId": "9c7e1901-42e2-4533-8d14-38691096eef8"
      },
      "execution_count": null,
      "outputs": [
        {
          "output_type": "execute_result",
          "data": {
            "text/plain": [
              "OBJECT_NAME       1461\n",
              "OBJECT_TYPE       1461\n",
              "RCS_SIZE          1459\n",
              "COUNTRY_CODE      1461\n",
              "LAUNCH_DATE       1461\n",
              "SITE              1461\n",
              "SEMIMAJOR_AXIS    1461\n",
              "PERIOD            1461\n",
              "dtype: int64"
            ]
          },
          "metadata": {},
          "execution_count": 83
        }
      ]
    },
    {
      "cell_type": "code",
      "source": [
        "df_2020 = space_objects[space_objects['LAUNCH_DATE'] == 2020.0]\n",
        "df_2020.count()"
      ],
      "metadata": {
        "colab": {
          "base_uri": "https://localhost:8080/"
        },
        "id": "2UEdFSE8I2pv",
        "outputId": "56540609-9905-4868-b218-87daa174b9fe"
      },
      "execution_count": null,
      "outputs": [
        {
          "output_type": "execute_result",
          "data": {
            "text/plain": [
              "OBJECT_NAME       1129\n",
              "OBJECT_TYPE       1129\n",
              "RCS_SIZE          1128\n",
              "COUNTRY_CODE      1129\n",
              "LAUNCH_DATE       1129\n",
              "SITE              1129\n",
              "SEMIMAJOR_AXIS    1129\n",
              "PERIOD            1129\n",
              "dtype: int64"
            ]
          },
          "metadata": {},
          "execution_count": 84
        }
      ]
    },
    {
      "cell_type": "code",
      "source": [
        "#Verifica o número de valores unicos para os países \n",
        "country_unique = space_objects.COUNTRY_CODE.unique()\n",
        "len(country_unique)"
      ],
      "metadata": {
        "colab": {
          "base_uri": "https://localhost:8080/"
        },
        "id": "JAP7ZH1L3CHG",
        "outputId": "1009675d-fb8d-4f5f-fa50-ef425433cac9"
      },
      "execution_count": null,
      "outputs": [
        {
          "output_type": "execute_result",
          "data": {
            "text/plain": [
              "100"
            ]
          },
          "metadata": {},
          "execution_count": 85
        }
      ]
    },
    {
      "cell_type": "markdown",
      "source": [
        "Temos dados de 100 países que lançaram objetos.\n",
        "\n",
        "Vamos ver quais são os 5 que mais lançaram.\n",
        "\n",
        "---\n",
        "\n"
      ],
      "metadata": {
        "id": "e76aHha15jcj"
      }
    },
    {
      "cell_type": "code",
      "source": [
        "a1 = space_objects.groupby(['COUNTRY_CODE']).COUNTRY_CODE.count().sort_values()[-5:].plot(kind='barh', figsize=(7, 5))\n",
        "a1.set_title(\"Top 5 países que mais lançaram objetos ao espaço\", fontsize= 18)\n",
        "a1.set_xlabel(\"Quantidade\", fontsize=12)\n",
        "a1.set_ylabel(\"País\", fontsize=12)\n",
        "plt.show()"
      ],
      "metadata": {
        "colab": {
          "base_uri": "https://localhost:8080/",
          "height": 357
        },
        "id": "8KzVZDAs4DQL",
        "outputId": "cb961ca2-70e5-4fc2-ed58-36fa45b1ddfe"
      },
      "execution_count": null,
      "outputs": [
        {
          "output_type": "display_data",
          "data": {
            "text/plain": [
              "<Figure size 504x360 with 1 Axes>"
            ],
            "image/png": "[encoded data removed]"
          },
          "metadata": {
            "needs_background": "light"
          }
        }
      ]
    },
    {
      "cell_type": "markdown",
      "source": [
        "Da mesma forma, vamos ver os principais locais de lançamento:"
      ],
      "metadata": {
        "id": "If5Q8xaA_OsX"
      }
    },
    {
      "cell_type": "code",
      "source": [
        "a1 = space_objects.groupby(['SITE']).SITE.count().sort_values()[-5:].plot(kind='barh', figsize=(7, 5))\n",
        "a1.set_title(\"Top 5 locais de lançamento\", fontsize= 18)\n",
        "a1.set_xlabel(\"Quantidade\", fontsize=12)\n",
        "a1.set_ylabel(\"Local\", fontsize=12)\n",
        "plt.show()"
      ],
      "metadata": {
        "colab": {
          "base_uri": "https://localhost:8080/",
          "height": 357
        },
        "id": "jCMlI8mo5gd2",
        "outputId": "06b60ea2-6330-44dd-c09e-c2ff2a245819"
      },
      "execution_count": null,
      "outputs": [
        {
          "output_type": "display_data",
          "data": {
            "text/plain": [
              "<Figure size 504x360 with 1 Axes>"
            ],
            "image/png": "[encoded data removed]"
          },
          "metadata": {
            "needs_background": "light"
          }
        }
      ]
    },
    {
      "cell_type": "markdown",
      "source": [
        "Top 5 locais de lançamento são:\n",
        "\n",
        "\n",
        "*   AFETR - Air Force Eastern Test Range\n",
        "*   TTMTR - Tyuratam Missile and Space Complex\n",
        "*   SRI - Shirarikota\n",
        "*   FRGUI - French Guiana\n",
        "*   AFWTR - Air Force Western Test Range\n",
        "\n"
      ],
      "metadata": {
        "id": "ABToHfZA_r9j"
      }
    },
    {
      "cell_type": "markdown",
      "source": [
        "## **Análise Payloads**"
      ],
      "metadata": {
        "id": "5nTDhk9e7dsW"
      }
    },
    {
      "cell_type": "markdown",
      "source": [
        "Agora que vimos alguns resultados para os dados gerais vamos tentar analisar algumas informações dos objetos classificados como carga paga"
      ],
      "metadata": {
        "id": "lComtSmE7ikQ"
      }
    },
    {
      "cell_type": "code",
      "source": [
        "df_payloads = space_objects[space_objects['OBJECT_TYPE'] == 'PAYLOAD']\n",
        "df_payloads.head()"
      ],
      "metadata": {
        "colab": {
          "base_uri": "https://localhost:8080/",
          "height": 206
        },
        "id": "VQiiEhaY7_yf",
        "outputId": "0d348db6-2251-4d92-b096-ee7b59762628"
      },
      "execution_count": null,
      "outputs": [
        {
          "output_type": "execute_result",
          "data": {
            "text/plain": [
              "             OBJECT_NAME OBJECT_TYPE RCS_SIZE COUNTRY_CODE  LAUNCH_DATE  \\\n",
              "2                 GSAT 1     PAYLOAD    LARGE          IND       2001.0   \n",
              "6                   XM-1     PAYLOAD    LARGE           US       2001.0   \n",
              "9   INTELSAT 10 (PAS 10)     PAYLOAD    LARGE           US       2001.0   \n",
              "32           COSMOS 2378     PAYLOAD    LARGE          CIS       2001.0   \n",
              "37          INTELSAT 901     PAYLOAD    LARGE         ITSO       2001.0   \n",
              "\n",
              "     SITE  SEMIMAJOR_AXIS    PERIOD  \n",
              "2     SRI       41197.852  1386.984  \n",
              "6    SEAL       42523.710  1454.476  \n",
              "9   TTMTR       42164.938  1436.107  \n",
              "32  PKMTR        7363.530   104.807  \n",
              "37  FRGUI       42165.355  1436.129  "
            ],
            "text/html": [
              "\n",
              "  <div id=\"df-1025f2df-f25f-4486-956c-af032a6a4275\">\n",
              "    <div class=\"colab-df-container\">\n",
              "      <div>\n",
              "<style scoped>\n",
              "    .dataframe tbody tr th:only-of-type {\n",
              "        vertical-align: middle;\n",
              "    }\n",
              "\n",
              "    .dataframe tbody tr th {\n",
              "        vertical-align: top;\n",
              "    }\n",
              "\n",
              "    .dataframe thead th {\n",
              "        text-align: right;\n",
              "    }\n",
              "</style>\n",
              "<table border=\"1\" class=\"dataframe\">\n",
              "  <thead>\n",
              "    <tr style=\"text-align: right;\">\n",
              "      <th></th>\n",
              "      <th>OBJECT_NAME</th>\n",
              "      <th>OBJECT_TYPE</th>\n",
              "      <th>RCS_SIZE</th>\n",
              "      <th>COUNTRY_CODE</th>\n",
              "      <th>LAUNCH_DATE</th>\n",
              "      <th>SITE</th>\n",
              "      <th>SEMIMAJOR_AXIS</th>\n",
              "      <th>PERIOD</th>\n",
              "    </tr>\n",
              "  </thead>\n",
              "  <tbody>\n",
              "    <tr>\n",
              "      <th>2</th>\n",
              "      <td>GSAT 1</td>\n",
              "      <td>PAYLOAD</td>\n",
              "      <td>LARGE</td>\n",
              "      <td>IND</td>\n",
              "      <td>2001.0</td>\n",
              "      <td>SRI</td>\n",
              "      <td>41197.852</td>\n",
              "      <td>1386.984</td>\n",
              "    </tr>\n",
              "    <tr>\n",
              "      <th>6</th>\n",
              "      <td>XM-1</td>\n",
              "      <td>PAYLOAD</td>\n",
              "      <td>LARGE</td>\n",
              "      <td>US</td>\n",
              "      <td>2001.0</td>\n",
              "      <td>SEAL</td>\n",
              "      <td>42523.710</td>\n",
              "      <td>1454.476</td>\n",
              "    </tr>\n",
              "    <tr>\n",
              "      <th>9</th>\n",
              "      <td>INTELSAT 10 (PAS 10)</td>\n",
              "      <td>PAYLOAD</td>\n",
              "      <td>LARGE</td>\n",
              "      <td>US</td>\n",
              "      <td>2001.0</td>\n",
              "      <td>TTMTR</td>\n",
              "      <td>42164.938</td>\n",
              "      <td>1436.107</td>\n",
              "    </tr>\n",
              "    <tr>\n",
              "      <th>32</th>\n",
              "      <td>COSMOS 2378</td>\n",
              "      <td>PAYLOAD</td>\n",
              "      <td>LARGE</td>\n",
              "      <td>CIS</td>\n",
              "      <td>2001.0</td>\n",
              "      <td>PKMTR</td>\n",
              "      <td>7363.530</td>\n",
              "      <td>104.807</td>\n",
              "    </tr>\n",
              "    <tr>\n",
              "      <th>37</th>\n",
              "      <td>INTELSAT 901</td>\n",
              "      <td>PAYLOAD</td>\n",
              "      <td>LARGE</td>\n",
              "      <td>ITSO</td>\n",
              "      <td>2001.0</td>\n",
              "      <td>FRGUI</td>\n",
              "      <td>42165.355</td>\n",
              "      <td>1436.129</td>\n",
              "    </tr>\n",
              "  </tbody>\n",
              "</table>\n",
              "</div>\n",
              "      <button class=\"colab-df-convert\" onclick=\"convertToInteractive('df-1025f2df-f25f-4486-956c-af032a6a4275')\"\n",
              "              title=\"Convert this dataframe to an interactive table.\"\n",
              "              style=\"display:none;\">\n",
              "        \n",
              "  <svg xmlns=\"http://www.w3.org/2000/svg\" height=\"24px\"viewBox=\"0 0 24 24\"\n",
              "       width=\"24px\">\n",
              "    <path d=\"M0 0h24v24H0V0z\" fill=\"none\"/>\n",
              "    <path d=\"M18.56 5.44l.94 2.06.94-2.06 2.06-.94-2.06-.94-.94-2.06-.94 2.06-2.06.94zm-11 1L8.5 8.5l.94-2.06 2.06-.94-2.06-.94L8.5 2.5l-.94 2.06-2.06.94zm10 10l.94 2.06.94-2.06 2.06-.94-2.06-.94-.94-2.06-.94 2.06-2.06.94z\"/><path d=\"M17.41 7.96l-1.37-1.37c-.4-.4-.92-.59-1.43-.59-.52 0-1.04.2-1.43.59L10.3 9.45l-7.72 7.72c-.78.78-.78 2.05 0 2.83L4 21.41c.39.39.9.59 1.41.59.51 0 1.02-.2 1.41-.59l7.78-7.78 2.81-2.81c.8-.78.8-2.07 0-2.86zM5.41 20L4 18.59l7.72-7.72 1.47 1.35L5.41 20z\"/>\n",
              "  </svg>\n",
              "      </button>\n",
              "      \n",
              "  <style>\n",
              "    .colab-df-container {\n",
              "      display:flex;\n",
              "      flex-wrap:wrap;\n",
              "      gap: 12px;\n",
              "    }\n",
              "\n",
              "    .colab-df-convert {\n",
              "      background-color: #E8F0FE;\n",
              "      border: none;\n",
              "      border-radius: 50%;\n",
              "      cursor: pointer;\n",
              "      display: none;\n",
              "      fill: #1967D2;\n",
              "      height: 32px;\n",
              "      padding: 0 0 0 0;\n",
              "      width: 32px;\n",
              "    }\n",
              "\n",
              "    .colab-df-convert:hover {\n",
              "      background-color: #E2EBFA;\n",
              "      box-shadow: 0px 1px 2px rgba(60, 64, 67, 0.3), 0px 1px 3px 1px rgba(60, 64, 67, 0.15);\n",
              "      fill: #174EA6;\n",
              "    }\n",
              "\n",
              "    [theme=dark] .colab-df-convert {\n",
              "      background-color: #3B4455;\n",
              "      fill: #D2E3FC;\n",
              "    }\n",
              "\n",
              "    [theme=dark] .colab-df-convert:hover {\n",
              "      background-color: #434B5C;\n",
              "      box-shadow: 0px 1px 3px 1px rgba(0, 0, 0, 0.15);\n",
              "      filter: drop-shadow(0px 1px 2px rgba(0, 0, 0, 0.3));\n",
              "      fill: #FFFFFF;\n",
              "    }\n",
              "  </style>\n",
              "\n",
              "      <script>\n",
              "        const buttonEl =\n",
              "          document.querySelector('#df-1025f2df-f25f-4486-956c-af032a6a4275 button.colab-df-convert');\n",
              "        buttonEl.style.display =\n",
              "          google.colab.kernel.accessAllowed ? 'block' : 'none';\n",
              "\n",
              "        async function convertToInteractive(key) {\n",
              "          const element = document.querySelector('#df-1025f2df-f25f-4486-956c-af032a6a4275');\n",
              "          const dataTable =\n",
              "            await google.colab.kernel.invokeFunction('convertToInteractive',\n",
              "                                                     [key], {});\n",
              "          if (!dataTable) return;\n",
              "\n",
              "          const docLinkHtml = 'Like what you see? Visit the ' +\n",
              "            '<a target=\"_blank\" href=https://colab.research.google.com/notebooks/data_table.ipynb>data table notebook</a>'\n",
              "            + ' to learn more about interactive tables.';\n",
              "          element.innerHTML = '';\n",
              "          dataTable['output_type'] = 'display_data';\n",
              "          await google.colab.output.renderOutput(dataTable, element);\n",
              "          const docLink = document.createElement('div');\n",
              "          docLink.innerHTML = docLinkHtml;\n",
              "          element.appendChild(docLink);\n",
              "        }\n",
              "      </script>\n",
              "    </div>\n",
              "  </div>\n",
              "  "
            ]
          },
          "metadata": {},
          "execution_count": 88
        }
      ]
    },
    {
      "cell_type": "code",
      "source": [
        "df_payloads.info()"
      ],
      "metadata": {
        "colab": {
          "base_uri": "https://localhost:8080/"
        },
        "id": "DA2CcjfM9Ryx",
        "outputId": "8ec21b46-59b4-4916-aea1-e4a5df0b77eb"
      },
      "execution_count": null,
      "outputs": [
        {
          "output_type": "stream",
          "name": "stdout",
          "text": [
            "<class 'pandas.core.frame.DataFrame'>\n",
            "Int64Index: 4946 entries, 2 to 14332\n",
            "Data columns (total 8 columns):\n",
            " #   Column          Non-Null Count  Dtype  \n",
            "---  ------          --------------  -----  \n",
            " 0   OBJECT_NAME     4946 non-null   object \n",
            " 1   OBJECT_TYPE     4946 non-null   object \n",
            " 2   RCS_SIZE        4938 non-null   object \n",
            " 3   COUNTRY_CODE    4946 non-null   object \n",
            " 4   LAUNCH_DATE     4946 non-null   float64\n",
            " 5   SITE            4946 non-null   object \n",
            " 6   SEMIMAJOR_AXIS  4946 non-null   float64\n",
            " 7   PERIOD          4946 non-null   float64\n",
            "dtypes: float64(3), object(5)\n",
            "memory usage: 347.8+ KB\n"
          ]
        }
      ]
    },
    {
      "cell_type": "markdown",
      "source": [
        "**Como está distruibuido o tamanho desses objetos?**"
      ],
      "metadata": {
        "id": "nHjfSh3j7wGb"
      }
    },
    {
      "cell_type": "code",
      "source": [
        "a1 = df_payloads.groupby(['RCS_SIZE']).RCS_SIZE.size().plot(kind='barh', figsize=(7, 5))\n",
        "a1.set_title(\"Tamanho dos objetos\", fontsize= 18)\n",
        "a1.set_xlabel(\"Quantidade\", fontsize=12)\n",
        "a1.set_ylabel(\"Tamanho\", fontsize=12)\n",
        "plt.show()"
      ],
      "metadata": {
        "colab": {
          "base_uri": "https://localhost:8080/",
          "height": 357
        },
        "id": "SuO-k4ZU7hi4",
        "outputId": "52dfbf4e-331f-4e44-a3a0-659f62263a5b"
      },
      "execution_count": null,
      "outputs": [
        {
          "output_type": "display_data",
          "data": {
            "text/plain": [
              "<Figure size 504x360 with 1 Axes>"
            ],
            "image/png": "[encoded data removed]"
          },
          "metadata": {
            "needs_background": "light"
          }
        }
      ]
    },
    {
      "cell_type": "markdown",
      "source": [
        "* A maior parte dos objetos payload é de tamanho grande. A quantidade de médios e pequenos é similar."
      ],
      "metadata": {
        "id": "cNGX9K-j8m-Q"
      }
    },
    {
      "cell_type": "markdown",
      "source": [
        "**Qual carga paga teve a maior altitude?**"
      ],
      "metadata": {
        "id": "G_4nXzfbBd8K"
      }
    },
    {
      "cell_type": "code",
      "source": [
        "def max_alt(x):\n",
        "    is_max = x == x.max()\n",
        "    return ['background-color: pink' if v else '' for v in is_max]"
      ],
      "metadata": {
        "id": "xhaQJ2pKIwUU"
      },
      "execution_count": null,
      "outputs": []
    },
    {
      "cell_type": "code",
      "source": [
        "#Pintar de vermelho a maior\n",
        "largest_payloads = df_payloads.nlargest(5, 'SEMIMAJOR_AXIS')\n",
        "largest_payloads.style.apply(max_alt, subset=['SEMIMAJOR_AXIS'])"
      ],
      "metadata": {
        "colab": {
          "base_uri": "https://localhost:8080/",
          "height": 206
        },
        "id": "q5KQRhTH-Lo0",
        "outputId": "750f5f9d-bbb7-41b6-9ea7-7baea01107c6"
      },
      "execution_count": null,
      "outputs": [
        {
          "output_type": "execute_result",
          "data": {
            "text/plain": [
              "<pandas.io.formats.style.Styler at 0x7f16b8400090>"
            ],
            "text/html": [
              "<style type=\"text/css\">\n",
              "#T_8b168_row0_col6 {\n",
              "  background-color: pink;\n",
              "}\n",
              "</style>\n",
              "<table id=\"T_8b168_\" class=\"dataframe\">\n",
              "  <thead>\n",
              "    <tr>\n",
              "      <th class=\"blank level0\" >&nbsp;</th>\n",
              "      <th class=\"col_heading level0 col0\" >OBJECT_NAME</th>\n",
              "      <th class=\"col_heading level0 col1\" >OBJECT_TYPE</th>\n",
              "      <th class=\"col_heading level0 col2\" >RCS_SIZE</th>\n",
              "      <th class=\"col_heading level0 col3\" >COUNTRY_CODE</th>\n",
              "      <th class=\"col_heading level0 col4\" >LAUNCH_DATE</th>\n",
              "      <th class=\"col_heading level0 col5\" >SITE</th>\n",
              "      <th class=\"col_heading level0 col6\" >SEMIMAJOR_AXIS</th>\n",
              "      <th class=\"col_heading level0 col7\" >PERIOD</th>\n",
              "    </tr>\n",
              "  </thead>\n",
              "  <tbody>\n",
              "    <tr>\n",
              "      <th id=\"T_8b168_level0_row0\" class=\"row_heading level0 row0\" >12240</th>\n",
              "      <td id=\"T_8b168_row0_col0\" class=\"data row0 col0\" >CHANG'E 5</td>\n",
              "      <td id=\"T_8b168_row0_col1\" class=\"data row0 col1\" >PAYLOAD</td>\n",
              "      <td id=\"T_8b168_row0_col2\" class=\"data row0 col2\" >nan</td>\n",
              "      <td id=\"T_8b168_row0_col3\" class=\"data row0 col3\" >PRC</td>\n",
              "      <td id=\"T_8b168_row0_col4\" class=\"data row0 col4\" >2020.000000</td>\n",
              "      <td id=\"T_8b168_row0_col5\" class=\"data row0 col5\" >WSC</td>\n",
              "      <td id=\"T_8b168_row0_col6\" class=\"data row0 col6\" >304049.635000</td>\n",
              "      <td id=\"T_8b168_row0_col7\" class=\"data row0 col7\" >27808.429000</td>\n",
              "    </tr>\n",
              "    <tr>\n",
              "      <th id=\"T_8b168_level0_row1\" class=\"row_heading level0 row1\" >9621</th>\n",
              "      <td id=\"T_8b168_row1_col0\" class=\"data row1 col0\" >TESS</td>\n",
              "      <td id=\"T_8b168_row1_col1\" class=\"data row1 col1\" >PAYLOAD</td>\n",
              "      <td id=\"T_8b168_row1_col2\" class=\"data row1 col2\" >nan</td>\n",
              "      <td id=\"T_8b168_row1_col3\" class=\"data row1 col3\" >US</td>\n",
              "      <td id=\"T_8b168_row1_col4\" class=\"data row1 col4\" >2018.000000</td>\n",
              "      <td id=\"T_8b168_row1_col5\" class=\"data row1 col5\" >AFETR</td>\n",
              "      <td id=\"T_8b168_row1_col6\" class=\"data row1 col6\" >232396.282000</td>\n",
              "      <td id=\"T_8b168_row1_col7\" class=\"data row1 col7\" >18582.472000</td>\n",
              "    </tr>\n",
              "    <tr>\n",
              "      <th id=\"T_8b168_level0_row2\" class=\"row_heading level0 row2\" >5662</th>\n",
              "      <td id=\"T_8b168_row2_col0\" class=\"data row2 col0\" >SPEKTR R</td>\n",
              "      <td id=\"T_8b168_row2_col1\" class=\"data row2 col1\" >PAYLOAD</td>\n",
              "      <td id=\"T_8b168_row2_col2\" class=\"data row2 col2\" >LARGE</td>\n",
              "      <td id=\"T_8b168_row2_col3\" class=\"data row2 col3\" >CIS</td>\n",
              "      <td id=\"T_8b168_row2_col4\" class=\"data row2 col4\" >2011.000000</td>\n",
              "      <td id=\"T_8b168_row2_col5\" class=\"data row2 col5\" >TTMTR</td>\n",
              "      <td id=\"T_8b168_row2_col6\" class=\"data row2 col6\" >182331.558000</td>\n",
              "      <td id=\"T_8b168_row2_col7\" class=\"data row2 col7\" >12913.754000</td>\n",
              "    </tr>\n",
              "    <tr>\n",
              "      <th id=\"T_8b168_level0_row3\" class=\"row_heading level0 row3\" >7398</th>\n",
              "      <td id=\"T_8b168_row3_col0\" class=\"data row3 col0\" >MMS 3</td>\n",
              "      <td id=\"T_8b168_row3_col1\" class=\"data row3 col1\" >PAYLOAD</td>\n",
              "      <td id=\"T_8b168_row3_col2\" class=\"data row3 col2\" >LARGE</td>\n",
              "      <td id=\"T_8b168_row3_col3\" class=\"data row3 col3\" >US</td>\n",
              "      <td id=\"T_8b168_row3_col4\" class=\"data row3 col4\" >2015.000000</td>\n",
              "      <td id=\"T_8b168_row3_col5\" class=\"data row3 col5\" >AFETR</td>\n",
              "      <td id=\"T_8b168_row3_col6\" class=\"data row3 col6\" >97777.262000</td>\n",
              "      <td id=\"T_8b168_row3_col7\" class=\"data row3 col7\" >5071.268000</td>\n",
              "    </tr>\n",
              "    <tr>\n",
              "      <th id=\"T_8b168_level0_row4\" class=\"row_heading level0 row4\" >7399</th>\n",
              "      <td id=\"T_8b168_row4_col0\" class=\"data row4 col0\" >MMS 4</td>\n",
              "      <td id=\"T_8b168_row4_col1\" class=\"data row4 col1\" >PAYLOAD</td>\n",
              "      <td id=\"T_8b168_row4_col2\" class=\"data row4 col2\" >LARGE</td>\n",
              "      <td id=\"T_8b168_row4_col3\" class=\"data row4 col3\" >US</td>\n",
              "      <td id=\"T_8b168_row4_col4\" class=\"data row4 col4\" >2015.000000</td>\n",
              "      <td id=\"T_8b168_row4_col5\" class=\"data row4 col5\" >AFETR</td>\n",
              "      <td id=\"T_8b168_row4_col6\" class=\"data row4 col6\" >97711.435000</td>\n",
              "      <td id=\"T_8b168_row4_col7\" class=\"data row4 col7\" >5066.147000</td>\n",
              "    </tr>\n",
              "  </tbody>\n",
              "</table>\n"
            ]
          },
          "metadata": {},
          "execution_count": 92
        }
      ]
    },
    {
      "cell_type": "markdown",
      "source": [
        "* O payload de maior altitude é da missão **CHANG'E 5** com 304.049,635 km. \n",
        "\n",
        "Essa foi uma missão de exploração Chinesa com destino à Lua. Teve o objetivo de coletar amostras do solo lunar.\n"
      ],
      "metadata": {
        "id": "XBxbvRd3CJur"
      }
    },
    {
      "cell_type": "markdown",
      "source": [
        "**Quais objetos têm os maiores e menores períodos de rotação ao redor da terra?**"
      ],
      "metadata": {
        "id": "VeZUurPiBbpJ"
      }
    },
    {
      "cell_type": "code",
      "source": [
        "def valor_max(x):\n",
        "    is_max = x == x.max()\n",
        "    return ['background-color: cyan' if v else '' for v in is_max]"
      ],
      "metadata": {
        "id": "y4ATisklHZkX"
      },
      "execution_count": null,
      "outputs": []
    },
    {
      "cell_type": "code",
      "source": [
        "p1 = df_payloads.nlargest(5, 'PERIOD')\n",
        "p1.style.apply(valor_max, subset=['PERIOD'])\n"
      ],
      "metadata": {
        "colab": {
          "base_uri": "https://localhost:8080/",
          "height": 206
        },
        "id": "zzEaunpvC-cf",
        "outputId": "5b4d1c8e-67e6-46ad-aefb-444c17994794"
      },
      "execution_count": null,
      "outputs": [
        {
          "output_type": "execute_result",
          "data": {
            "text/plain": [
              "<pandas.io.formats.style.Styler at 0x7f16b8098e10>"
            ],
            "text/html": [
              "<style type=\"text/css\">\n",
              "#T_b124f_row0_col7 {\n",
              "  background-color: cyan;\n",
              "}\n",
              "</style>\n",
              "<table id=\"T_b124f_\" class=\"dataframe\">\n",
              "  <thead>\n",
              "    <tr>\n",
              "      <th class=\"blank level0\" >&nbsp;</th>\n",
              "      <th class=\"col_heading level0 col0\" >OBJECT_NAME</th>\n",
              "      <th class=\"col_heading level0 col1\" >OBJECT_TYPE</th>\n",
              "      <th class=\"col_heading level0 col2\" >RCS_SIZE</th>\n",
              "      <th class=\"col_heading level0 col3\" >COUNTRY_CODE</th>\n",
              "      <th class=\"col_heading level0 col4\" >LAUNCH_DATE</th>\n",
              "      <th class=\"col_heading level0 col5\" >SITE</th>\n",
              "      <th class=\"col_heading level0 col6\" >SEMIMAJOR_AXIS</th>\n",
              "      <th class=\"col_heading level0 col7\" >PERIOD</th>\n",
              "    </tr>\n",
              "  </thead>\n",
              "  <tbody>\n",
              "    <tr>\n",
              "      <th id=\"T_b124f_level0_row0\" class=\"row_heading level0 row0\" >12240</th>\n",
              "      <td id=\"T_b124f_row0_col0\" class=\"data row0 col0\" >CHANG'E 5</td>\n",
              "      <td id=\"T_b124f_row0_col1\" class=\"data row0 col1\" >PAYLOAD</td>\n",
              "      <td id=\"T_b124f_row0_col2\" class=\"data row0 col2\" >nan</td>\n",
              "      <td id=\"T_b124f_row0_col3\" class=\"data row0 col3\" >PRC</td>\n",
              "      <td id=\"T_b124f_row0_col4\" class=\"data row0 col4\" >2020.000000</td>\n",
              "      <td id=\"T_b124f_row0_col5\" class=\"data row0 col5\" >WSC</td>\n",
              "      <td id=\"T_b124f_row0_col6\" class=\"data row0 col6\" >304049.635000</td>\n",
              "      <td id=\"T_b124f_row0_col7\" class=\"data row0 col7\" >27808.429000</td>\n",
              "    </tr>\n",
              "    <tr>\n",
              "      <th id=\"T_b124f_level0_row1\" class=\"row_heading level0 row1\" >9621</th>\n",
              "      <td id=\"T_b124f_row1_col0\" class=\"data row1 col0\" >TESS</td>\n",
              "      <td id=\"T_b124f_row1_col1\" class=\"data row1 col1\" >PAYLOAD</td>\n",
              "      <td id=\"T_b124f_row1_col2\" class=\"data row1 col2\" >nan</td>\n",
              "      <td id=\"T_b124f_row1_col3\" class=\"data row1 col3\" >US</td>\n",
              "      <td id=\"T_b124f_row1_col4\" class=\"data row1 col4\" >2018.000000</td>\n",
              "      <td id=\"T_b124f_row1_col5\" class=\"data row1 col5\" >AFETR</td>\n",
              "      <td id=\"T_b124f_row1_col6\" class=\"data row1 col6\" >232396.282000</td>\n",
              "      <td id=\"T_b124f_row1_col7\" class=\"data row1 col7\" >18582.472000</td>\n",
              "    </tr>\n",
              "    <tr>\n",
              "      <th id=\"T_b124f_level0_row2\" class=\"row_heading level0 row2\" >5662</th>\n",
              "      <td id=\"T_b124f_row2_col0\" class=\"data row2 col0\" >SPEKTR R</td>\n",
              "      <td id=\"T_b124f_row2_col1\" class=\"data row2 col1\" >PAYLOAD</td>\n",
              "      <td id=\"T_b124f_row2_col2\" class=\"data row2 col2\" >LARGE</td>\n",
              "      <td id=\"T_b124f_row2_col3\" class=\"data row2 col3\" >CIS</td>\n",
              "      <td id=\"T_b124f_row2_col4\" class=\"data row2 col4\" >2011.000000</td>\n",
              "      <td id=\"T_b124f_row2_col5\" class=\"data row2 col5\" >TTMTR</td>\n",
              "      <td id=\"T_b124f_row2_col6\" class=\"data row2 col6\" >182331.558000</td>\n",
              "      <td id=\"T_b124f_row2_col7\" class=\"data row2 col7\" >12913.754000</td>\n",
              "    </tr>\n",
              "    <tr>\n",
              "      <th id=\"T_b124f_level0_row3\" class=\"row_heading level0 row3\" >7398</th>\n",
              "      <td id=\"T_b124f_row3_col0\" class=\"data row3 col0\" >MMS 3</td>\n",
              "      <td id=\"T_b124f_row3_col1\" class=\"data row3 col1\" >PAYLOAD</td>\n",
              "      <td id=\"T_b124f_row3_col2\" class=\"data row3 col2\" >LARGE</td>\n",
              "      <td id=\"T_b124f_row3_col3\" class=\"data row3 col3\" >US</td>\n",
              "      <td id=\"T_b124f_row3_col4\" class=\"data row3 col4\" >2015.000000</td>\n",
              "      <td id=\"T_b124f_row3_col5\" class=\"data row3 col5\" >AFETR</td>\n",
              "      <td id=\"T_b124f_row3_col6\" class=\"data row3 col6\" >97777.262000</td>\n",
              "      <td id=\"T_b124f_row3_col7\" class=\"data row3 col7\" >5071.268000</td>\n",
              "    </tr>\n",
              "    <tr>\n",
              "      <th id=\"T_b124f_level0_row4\" class=\"row_heading level0 row4\" >7399</th>\n",
              "      <td id=\"T_b124f_row4_col0\" class=\"data row4 col0\" >MMS 4</td>\n",
              "      <td id=\"T_b124f_row4_col1\" class=\"data row4 col1\" >PAYLOAD</td>\n",
              "      <td id=\"T_b124f_row4_col2\" class=\"data row4 col2\" >LARGE</td>\n",
              "      <td id=\"T_b124f_row4_col3\" class=\"data row4 col3\" >US</td>\n",
              "      <td id=\"T_b124f_row4_col4\" class=\"data row4 col4\" >2015.000000</td>\n",
              "      <td id=\"T_b124f_row4_col5\" class=\"data row4 col5\" >AFETR</td>\n",
              "      <td id=\"T_b124f_row4_col6\" class=\"data row4 col6\" >97711.435000</td>\n",
              "      <td id=\"T_b124f_row4_col7\" class=\"data row4 col7\" >5066.147000</td>\n",
              "    </tr>\n",
              "  </tbody>\n",
              "</table>\n"
            ]
          },
          "metadata": {},
          "execution_count": 94
        }
      ]
    },
    {
      "cell_type": "code",
      "source": [
        "def valor_min(x):\n",
        "    is_min = x == x.min()\n",
        "    return ['background-color: yellow' if v else '' for v in is_min]"
      ],
      "metadata": {
        "id": "4pKrDn8UIGgb"
      },
      "execution_count": null,
      "outputs": []
    },
    {
      "cell_type": "code",
      "source": [
        "p2 = df_payloads.nsmallest(5, 'PERIOD')\n",
        "p2.style.apply(valor_min, subset=['PERIOD'])"
      ],
      "metadata": {
        "colab": {
          "base_uri": "https://localhost:8080/",
          "height": 206
        },
        "id": "4iXQKxSdEB0s",
        "outputId": "f8fc0dd0-2067-42c8-aac8-5f846bf9c5fe"
      },
      "execution_count": null,
      "outputs": [
        {
          "output_type": "execute_result",
          "data": {
            "text/plain": [
              "<pandas.io.formats.style.Styler at 0x7f16b80dc1d0>"
            ],
            "text/html": [
              "<style type=\"text/css\">\n",
              "#T_7fc40_row0_col7 {\n",
              "  background-color: yellow;\n",
              "}\n",
              "</style>\n",
              "<table id=\"T_7fc40_\" class=\"dataframe\">\n",
              "  <thead>\n",
              "    <tr>\n",
              "      <th class=\"blank level0\" >&nbsp;</th>\n",
              "      <th class=\"col_heading level0 col0\" >OBJECT_NAME</th>\n",
              "      <th class=\"col_heading level0 col1\" >OBJECT_TYPE</th>\n",
              "      <th class=\"col_heading level0 col2\" >RCS_SIZE</th>\n",
              "      <th class=\"col_heading level0 col3\" >COUNTRY_CODE</th>\n",
              "      <th class=\"col_heading level0 col4\" >LAUNCH_DATE</th>\n",
              "      <th class=\"col_heading level0 col5\" >SITE</th>\n",
              "      <th class=\"col_heading level0 col6\" >SEMIMAJOR_AXIS</th>\n",
              "      <th class=\"col_heading level0 col7\" >PERIOD</th>\n",
              "    </tr>\n",
              "  </thead>\n",
              "  <tbody>\n",
              "    <tr>\n",
              "      <th id=\"T_7fc40_level0_row0\" class=\"row_heading level0 row0\" >8356</th>\n",
              "      <td id=\"T_7fc40_row0_col0\" class=\"data row0 col0\" >WORLDVIEW 4</td>\n",
              "      <td id=\"T_7fc40_row0_col1\" class=\"data row0 col1\" >PAYLOAD</td>\n",
              "      <td id=\"T_7fc40_row0_col2\" class=\"data row0 col2\" >LARGE</td>\n",
              "      <td id=\"T_7fc40_row0_col3\" class=\"data row0 col3\" >US</td>\n",
              "      <td id=\"T_7fc40_row0_col4\" class=\"data row0 col4\" >2016.000000</td>\n",
              "      <td id=\"T_7fc40_row0_col5\" class=\"data row0 col5\" >AFWTR</td>\n",
              "      <td id=\"T_7fc40_row0_col6\" class=\"data row0 col6\" >6655.876000</td>\n",
              "      <td id=\"T_7fc40_row0_col7\" class=\"data row0 col7\" >90.067000</td>\n",
              "    </tr>\n",
              "    <tr>\n",
              "      <th id=\"T_7fc40_level0_row1\" class=\"row_heading level0 row1\" >4649</th>\n",
              "      <td id=\"T_7fc40_row1_col0\" class=\"data row1 col0\" >SUMBANDILA</td>\n",
              "      <td id=\"T_7fc40_row1_col1\" class=\"data row1 col1\" >PAYLOAD</td>\n",
              "      <td id=\"T_7fc40_row1_col2\" class=\"data row1 col2\" >MEDIUM</td>\n",
              "      <td id=\"T_7fc40_row1_col3\" class=\"data row1 col3\" >SAFR</td>\n",
              "      <td id=\"T_7fc40_row1_col4\" class=\"data row1 col4\" >2009.000000</td>\n",
              "      <td id=\"T_7fc40_row1_col5\" class=\"data row1 col5\" >TTMTR</td>\n",
              "      <td id=\"T_7fc40_row1_col6\" class=\"data row1 col6\" >6658.345000</td>\n",
              "      <td id=\"T_7fc40_row1_col7\" class=\"data row1 col7\" >90.118000</td>\n",
              "    </tr>\n",
              "    <tr>\n",
              "      <th id=\"T_7fc40_level0_row2\" class=\"row_heading level0 row2\" >9301</th>\n",
              "      <td id=\"T_7fc40_row2_col0\" class=\"data row2 col0\" >ECAMSAT</td>\n",
              "      <td id=\"T_7fc40_row2_col1\" class=\"data row2 col1\" >PAYLOAD</td>\n",
              "      <td id=\"T_7fc40_row2_col2\" class=\"data row2 col2\" >SMALL</td>\n",
              "      <td id=\"T_7fc40_row2_col3\" class=\"data row2 col3\" >US</td>\n",
              "      <td id=\"T_7fc40_row2_col4\" class=\"data row2 col4\" >1998.000000</td>\n",
              "      <td id=\"T_7fc40_row2_col5\" class=\"data row2 col5\" >TTMTR</td>\n",
              "      <td id=\"T_7fc40_row2_col6\" class=\"data row2 col6\" >6658.900000</td>\n",
              "      <td id=\"T_7fc40_row2_col7\" class=\"data row2 col7\" >90.129000</td>\n",
              "    </tr>\n",
              "    <tr>\n",
              "      <th id=\"T_7fc40_level0_row3\" class=\"row_heading level0 row3\" >9665</th>\n",
              "      <td id=\"T_7fc40_row3_col0\" class=\"data row3 col0\" >REMOVEDEBRIS</td>\n",
              "      <td id=\"T_7fc40_row3_col1\" class=\"data row3 col1\" >PAYLOAD</td>\n",
              "      <td id=\"T_7fc40_row3_col2\" class=\"data row3 col2\" >MEDIUM</td>\n",
              "      <td id=\"T_7fc40_row3_col3\" class=\"data row3 col3\" >UK</td>\n",
              "      <td id=\"T_7fc40_row3_col4\" class=\"data row3 col4\" >1998.000000</td>\n",
              "      <td id=\"T_7fc40_row3_col5\" class=\"data row3 col5\" >TTMTR</td>\n",
              "      <td id=\"T_7fc40_row3_col6\" class=\"data row3 col6\" >6664.425000</td>\n",
              "      <td id=\"T_7fc40_row3_col7\" class=\"data row3 col7\" >90.241000</td>\n",
              "    </tr>\n",
              "    <tr>\n",
              "      <th id=\"T_7fc40_level0_row4\" class=\"row_heading level0 row4\" >11924</th>\n",
              "      <td id=\"T_7fc40_row4_col0\" class=\"data row4 col0\" >STARLINK-1827</td>\n",
              "      <td id=\"T_7fc40_row4_col1\" class=\"data row4 col1\" >PAYLOAD</td>\n",
              "      <td id=\"T_7fc40_row4_col2\" class=\"data row4 col2\" >LARGE</td>\n",
              "      <td id=\"T_7fc40_row4_col3\" class=\"data row4 col3\" >US</td>\n",
              "      <td id=\"T_7fc40_row4_col4\" class=\"data row4 col4\" >2020.000000</td>\n",
              "      <td id=\"T_7fc40_row4_col5\" class=\"data row4 col5\" >AFETR</td>\n",
              "      <td id=\"T_7fc40_row4_col6\" class=\"data row4 col6\" >6673.262000</td>\n",
              "      <td id=\"T_7fc40_row4_col7\" class=\"data row4 col7\" >90.421000</td>\n",
              "    </tr>\n",
              "  </tbody>\n",
              "</table>\n"
            ]
          },
          "metadata": {},
          "execution_count": 96
        }
      ]
    },
    {
      "cell_type": "markdown",
      "source": [
        "* O objeto com maior tempo para dar uma volta completa ao redor do planeta é da missão **CHANG'E 5** que a 304.049,635 km de altitude leva 27.808 minutos.\n",
        "\n",
        "* O objeto com menor tempo para dar uma volta completa ao redor do planeta é o satélite **WORLDVIEW 4** que a 6.655,876 km de altitude leva cerca de 90 min."
      ],
      "metadata": {
        "id": "0dAYS5i5Eqx8"
      }
    },
    {
      "cell_type": "markdown",
      "source": [
        "## **Análise dos detritos**"
      ],
      "metadata": {
        "id": "6MycKGMqJr2f"
      }
    },
    {
      "cell_type": "markdown",
      "source": [
        "Detritos espaciais (space debris) são objetos criados por humanos que estão em órbita no planeta Terra. Estes podem ser desde pedaços de foguetes e satélites, ferramentas usadas em missões, lascas de tintas e até fragmentos resultantes de acidentes no espaço."
      ],
      "metadata": {
        "id": "WvIdLG_jOhhG"
      }
    },
    {
      "cell_type": "code",
      "source": [
        "df_debris = space_objects[space_objects['OBJECT_TYPE'] == 'DEBRIS']\n",
        "df_debris.head()"
      ],
      "metadata": {
        "colab": {
          "base_uri": "https://localhost:8080/",
          "height": 206
        },
        "id": "pssokqUfJv2C",
        "outputId": "40aa45a6-2906-4a72-88f7-80a950c96daa"
      },
      "execution_count": null,
      "outputs": [
        {
          "output_type": "execute_result",
          "data": {
            "text/plain": [
              "               OBJECT_NAME OBJECT_TYPE RCS_SIZE COUNTRY_CODE  LAUNCH_DATE  \\\n",
              "0          ARIANE 42P+ DEB      DEBRIS   MEDIUM           FR       1992.0   \n",
              "1                 SL-8 DEB      DEBRIS    SMALL          CIS       1979.0   \n",
              "3                 CZ-4 DEB      DEBRIS    SMALL          PRC       1999.0   \n",
              "8   TITAN 3C TRANSTAGE DEB      DEBRIS    SMALL           US       1965.0   \n",
              "17                CZ-3 DEB      DEBRIS    SMALL          PRC       1984.0   \n",
              "\n",
              "     SITE  SEMIMAJOR_AXIS   PERIOD  \n",
              "0   FRGUI       20668.618  492.864  \n",
              "1   PKMTR        7358.038  104.689  \n",
              "3     TSC        7015.076   97.456  \n",
              "8   AFETR       21580.311  525.831  \n",
              "17    XSC       21286.879  515.143  "
            ],
            "text/html": [
              "\n",
              "  <div id=\"df-5d92b126-fb0d-47f4-950d-4b53260f83ae\">\n",
              "    <div class=\"colab-df-container\">\n",
              "      <div>\n",
              "<style scoped>\n",
              "    .dataframe tbody tr th:only-of-type {\n",
              "        vertical-align: middle;\n",
              "    }\n",
              "\n",
              "    .dataframe tbody tr th {\n",
              "        vertical-align: top;\n",
              "    }\n",
              "\n",
              "    .dataframe thead th {\n",
              "        text-align: right;\n",
              "    }\n",
              "</style>\n",
              "<table border=\"1\" class=\"dataframe\">\n",
              "  <thead>\n",
              "    <tr style=\"text-align: right;\">\n",
              "      <th></th>\n",
              "      <th>OBJECT_NAME</th>\n",
              "      <th>OBJECT_TYPE</th>\n",
              "      <th>RCS_SIZE</th>\n",
              "      <th>COUNTRY_CODE</th>\n",
              "      <th>LAUNCH_DATE</th>\n",
              "      <th>SITE</th>\n",
              "      <th>SEMIMAJOR_AXIS</th>\n",
              "      <th>PERIOD</th>\n",
              "    </tr>\n",
              "  </thead>\n",
              "  <tbody>\n",
              "    <tr>\n",
              "      <th>0</th>\n",
              "      <td>ARIANE 42P+ DEB</td>\n",
              "      <td>DEBRIS</td>\n",
              "      <td>MEDIUM</td>\n",
              "      <td>FR</td>\n",
              "      <td>1992.0</td>\n",
              "      <td>FRGUI</td>\n",
              "      <td>20668.618</td>\n",
              "      <td>492.864</td>\n",
              "    </tr>\n",
              "    <tr>\n",
              "      <th>1</th>\n",
              "      <td>SL-8 DEB</td>\n",
              "      <td>DEBRIS</td>\n",
              "      <td>SMALL</td>\n",
              "      <td>CIS</td>\n",
              "      <td>1979.0</td>\n",
              "      <td>PKMTR</td>\n",
              "      <td>7358.038</td>\n",
              "      <td>104.689</td>\n",
              "    </tr>\n",
              "    <tr>\n",
              "      <th>3</th>\n",
              "      <td>CZ-4 DEB</td>\n",
              "      <td>DEBRIS</td>\n",
              "      <td>SMALL</td>\n",
              "      <td>PRC</td>\n",
              "      <td>1999.0</td>\n",
              "      <td>TSC</td>\n",
              "      <td>7015.076</td>\n",
              "      <td>97.456</td>\n",
              "    </tr>\n",
              "    <tr>\n",
              "      <th>8</th>\n",
              "      <td>TITAN 3C TRANSTAGE DEB</td>\n",
              "      <td>DEBRIS</td>\n",
              "      <td>SMALL</td>\n",
              "      <td>US</td>\n",
              "      <td>1965.0</td>\n",
              "      <td>AFETR</td>\n",
              "      <td>21580.311</td>\n",
              "      <td>525.831</td>\n",
              "    </tr>\n",
              "    <tr>\n",
              "      <th>17</th>\n",
              "      <td>CZ-3 DEB</td>\n",
              "      <td>DEBRIS</td>\n",
              "      <td>SMALL</td>\n",
              "      <td>PRC</td>\n",
              "      <td>1984.0</td>\n",
              "      <td>XSC</td>\n",
              "      <td>21286.879</td>\n",
              "      <td>515.143</td>\n",
              "    </tr>\n",
              "  </tbody>\n",
              "</table>\n",
              "</div>\n",
              "      <button class=\"colab-df-convert\" onclick=\"convertToInteractive('df-5d92b126-fb0d-47f4-950d-4b53260f83ae')\"\n",
              "              title=\"Convert this dataframe to an interactive table.\"\n",
              "              style=\"display:none;\">\n",
              "        \n",
              "  <svg xmlns=\"http://www.w3.org/2000/svg\" height=\"24px\"viewBox=\"0 0 24 24\"\n",
              "       width=\"24px\">\n",
              "    <path d=\"M0 0h24v24H0V0z\" fill=\"none\"/>\n",
              "    <path d=\"M18.56 5.44l.94 2.06.94-2.06 2.06-.94-2.06-.94-.94-2.06-.94 2.06-2.06.94zm-11 1L8.5 8.5l.94-2.06 2.06-.94-2.06-.94L8.5 2.5l-.94 2.06-2.06.94zm10 10l.94 2.06.94-2.06 2.06-.94-2.06-.94-.94-2.06-.94 2.06-2.06.94z\"/><path d=\"M17.41 7.96l-1.37-1.37c-.4-.4-.92-.59-1.43-.59-.52 0-1.04.2-1.43.59L10.3 9.45l-7.72 7.72c-.78.78-.78 2.05 0 2.83L4 21.41c.39.39.9.59 1.41.59.51 0 1.02-.2 1.41-.59l7.78-7.78 2.81-2.81c.8-.78.8-2.07 0-2.86zM5.41 20L4 18.59l7.72-7.72 1.47 1.35L5.41 20z\"/>\n",
              "  </svg>\n",
              "      </button>\n",
              "      \n",
              "  <style>\n",
              "    .colab-df-container {\n",
              "      display:flex;\n",
              "      flex-wrap:wrap;\n",
              "      gap: 12px;\n",
              "    }\n",
              "\n",
              "    .colab-df-convert {\n",
              "      background-color: #E8F0FE;\n",
              "      border: none;\n",
              "      border-radius: 50%;\n",
              "      cursor: pointer;\n",
              "      display: none;\n",
              "      fill: #1967D2;\n",
              "      height: 32px;\n",
              "      padding: 0 0 0 0;\n",
              "      width: 32px;\n",
              "    }\n",
              "\n",
              "    .colab-df-convert:hover {\n",
              "      background-color: #E2EBFA;\n",
              "      box-shadow: 0px 1px 2px rgba(60, 64, 67, 0.3), 0px 1px 3px 1px rgba(60, 64, 67, 0.15);\n",
              "      fill: #174EA6;\n",
              "    }\n",
              "\n",
              "    [theme=dark] .colab-df-convert {\n",
              "      background-color: #3B4455;\n",
              "      fill: #D2E3FC;\n",
              "    }\n",
              "\n",
              "    [theme=dark] .colab-df-convert:hover {\n",
              "      background-color: #434B5C;\n",
              "      box-shadow: 0px 1px 3px 1px rgba(0, 0, 0, 0.15);\n",
              "      filter: drop-shadow(0px 1px 2px rgba(0, 0, 0, 0.3));\n",
              "      fill: #FFFFFF;\n",
              "    }\n",
              "  </style>\n",
              "\n",
              "      <script>\n",
              "        const buttonEl =\n",
              "          document.querySelector('#df-5d92b126-fb0d-47f4-950d-4b53260f83ae button.colab-df-convert');\n",
              "        buttonEl.style.display =\n",
              "          google.colab.kernel.accessAllowed ? 'block' : 'none';\n",
              "\n",
              "        async function convertToInteractive(key) {\n",
              "          const element = document.querySelector('#df-5d92b126-fb0d-47f4-950d-4b53260f83ae');\n",
              "          const dataTable =\n",
              "            await google.colab.kernel.invokeFunction('convertToInteractive',\n",
              "                                                     [key], {});\n",
              "          if (!dataTable) return;\n",
              "\n",
              "          const docLinkHtml = 'Like what you see? Visit the ' +\n",
              "            '<a target=\"_blank\" href=https://colab.research.google.com/notebooks/data_table.ipynb>data table notebook</a>'\n",
              "            + ' to learn more about interactive tables.';\n",
              "          element.innerHTML = '';\n",
              "          dataTable['output_type'] = 'display_data';\n",
              "          await google.colab.output.renderOutput(dataTable, element);\n",
              "          const docLink = document.createElement('div');\n",
              "          docLink.innerHTML = docLinkHtml;\n",
              "          element.appendChild(docLink);\n",
              "        }\n",
              "      </script>\n",
              "    </div>\n",
              "  </div>\n",
              "  "
            ]
          },
          "metadata": {},
          "execution_count": 103
        }
      ]
    },
    {
      "cell_type": "code",
      "source": [
        "df_debris.info()"
      ],
      "metadata": {
        "colab": {
          "base_uri": "https://localhost:8080/"
        },
        "id": "33zkkE3TLHJA",
        "outputId": "ed0c3b19-7e5f-462e-d886-c4b7d9543c28"
      },
      "execution_count": null,
      "outputs": [
        {
          "output_type": "stream",
          "name": "stdout",
          "text": [
            "<class 'pandas.core.frame.DataFrame'>\n",
            "Int64Index: 289 entries, 0 to 14233\n",
            "Data columns (total 8 columns):\n",
            " #   Column          Non-Null Count  Dtype  \n",
            "---  ------          --------------  -----  \n",
            " 0   OBJECT_NAME     289 non-null    object \n",
            " 1   OBJECT_TYPE     289 non-null    object \n",
            " 2   RCS_SIZE        284 non-null    object \n",
            " 3   COUNTRY_CODE    289 non-null    object \n",
            " 4   LAUNCH_DATE     289 non-null    float64\n",
            " 5   SITE            289 non-null    object \n",
            " 6   SEMIMAJOR_AXIS  289 non-null    float64\n",
            " 7   PERIOD          289 non-null    float64\n",
            "dtypes: float64(3), object(5)\n",
            "memory usage: 20.3+ KB\n"
          ]
        }
      ]
    },
    {
      "cell_type": "code",
      "source": [
        "a1 = df_debris.groupby(['RCS_SIZE']).RCS_SIZE.size().plot(kind='barh', figsize=(7, 5))\n",
        "a1.set_title(\"Tamanho dos objetos\", fontsize= 18)\n",
        "a1.set_xlabel(\"Quantidade\", fontsize=12)\n",
        "a1.set_ylabel(\"Tamanho\", fontsize=12)\n",
        "plt.show()"
      ],
      "metadata": {
        "colab": {
          "base_uri": "https://localhost:8080/",
          "height": 357
        },
        "id": "3LiBd14ELLnu",
        "outputId": "928c5603-1078-4374-d226-0166126a0163"
      },
      "execution_count": null,
      "outputs": [
        {
          "output_type": "display_data",
          "data": {
            "text/plain": [
              "<Figure size 504x360 with 1 Axes>"
            ],
            "image/png": "[encoded data removed]"
          },
          "metadata": {
            "needs_background": "light"
          }
        }
      ]
    },
    {
      "cell_type": "markdown",
      "source": [
        "**Aqui podemos verificar qual detrito está em maior altitude:**"
      ],
      "metadata": {
        "id": "1Vi_3BMKN4Wk"
      }
    },
    {
      "cell_type": "code",
      "source": [
        "largest_debris = df_debris.nlargest(5, 'SEMIMAJOR_AXIS')\n",
        "largest_debris.style.apply(max_alt, subset=['SEMIMAJOR_AXIS'])"
      ],
      "metadata": {
        "colab": {
          "base_uri": "https://localhost:8080/",
          "height": 206
        },
        "id": "OoHnqAO2LUms",
        "outputId": "a75b7b10-2991-4471-de59-244c29c3586c"
      },
      "execution_count": null,
      "outputs": [
        {
          "output_type": "execute_result",
          "data": {
            "text/plain": [
              "<pandas.io.formats.style.Styler at 0x7f16b811c510>"
            ],
            "text/html": [
              "<style type=\"text/css\">\n",
              "#T_c8cac_row0_col6 {\n",
              "  background-color: pink;\n",
              "}\n",
              "</style>\n",
              "<table id=\"T_c8cac_\" class=\"dataframe\">\n",
              "  <thead>\n",
              "    <tr>\n",
              "      <th class=\"blank level0\" >&nbsp;</th>\n",
              "      <th class=\"col_heading level0 col0\" >OBJECT_NAME</th>\n",
              "      <th class=\"col_heading level0 col1\" >OBJECT_TYPE</th>\n",
              "      <th class=\"col_heading level0 col2\" >RCS_SIZE</th>\n",
              "      <th class=\"col_heading level0 col3\" >COUNTRY_CODE</th>\n",
              "      <th class=\"col_heading level0 col4\" >LAUNCH_DATE</th>\n",
              "      <th class=\"col_heading level0 col5\" >SITE</th>\n",
              "      <th class=\"col_heading level0 col6\" >SEMIMAJOR_AXIS</th>\n",
              "      <th class=\"col_heading level0 col7\" >PERIOD</th>\n",
              "    </tr>\n",
              "  </thead>\n",
              "  <tbody>\n",
              "    <tr>\n",
              "      <th id=\"T_c8cac_level0_row0\" class=\"row_heading level0 row0\" >10078</th>\n",
              "      <td id=\"T_c8cac_row0_col0\" class=\"data row0 col0\" >S5 DEB</td>\n",
              "      <td id=\"T_c8cac_row0_col1\" class=\"data row0 col1\" >DEBRIS</td>\n",
              "      <td id=\"T_c8cac_row0_col2\" class=\"data row0 col2\" >LARGE</td>\n",
              "      <td id=\"T_c8cac_row0_col3\" class=\"data row0 col3\" >US</td>\n",
              "      <td id=\"T_c8cac_row0_col4\" class=\"data row0 col4\" >2019.000000</td>\n",
              "      <td id=\"T_c8cac_row0_col5\" class=\"data row0 col5\" >AFETR</td>\n",
              "      <td id=\"T_c8cac_row0_col6\" class=\"data row0 col6\" >42528.694000</td>\n",
              "      <td id=\"T_c8cac_row0_col7\" class=\"data row0 col7\" >1454.731000</td>\n",
              "    </tr>\n",
              "    <tr>\n",
              "      <th id=\"T_c8cac_level0_row1\" class=\"row_heading level0 row1\" >880</th>\n",
              "      <td id=\"T_c8cac_row1_col0\" class=\"data row1 col0\" >EKRAN 2 DEB</td>\n",
              "      <td id=\"T_c8cac_row1_col1\" class=\"data row1 col1\" >DEBRIS</td>\n",
              "      <td id=\"T_c8cac_row1_col2\" class=\"data row1 col2\" >MEDIUM</td>\n",
              "      <td id=\"T_c8cac_row1_col3\" class=\"data row1 col3\" >CIS</td>\n",
              "      <td id=\"T_c8cac_row1_col4\" class=\"data row1 col4\" >1977.000000</td>\n",
              "      <td id=\"T_c8cac_row1_col5\" class=\"data row1 col5\" >TTMTR</td>\n",
              "      <td id=\"T_c8cac_row1_col6\" class=\"data row1 col6\" >42203.198000</td>\n",
              "      <td id=\"T_c8cac_row1_col7\" class=\"data row1 col7\" >1438.063000</td>\n",
              "    </tr>\n",
              "    <tr>\n",
              "      <th id=\"T_c8cac_level0_row2\" class=\"row_heading level0 row2\" >9744</th>\n",
              "      <td id=\"T_c8cac_row2_col0\" class=\"data row2 col0\" >FENGYUN 2G DEB</td>\n",
              "      <td id=\"T_c8cac_row2_col1\" class=\"data row2 col1\" >DEBRIS</td>\n",
              "      <td id=\"T_c8cac_row2_col2\" class=\"data row2 col2\" >nan</td>\n",
              "      <td id=\"T_c8cac_row2_col3\" class=\"data row2 col3\" >PRC</td>\n",
              "      <td id=\"T_c8cac_row2_col4\" class=\"data row2 col4\" >2014.000000</td>\n",
              "      <td id=\"T_c8cac_row2_col5\" class=\"data row2 col5\" >XSC</td>\n",
              "      <td id=\"T_c8cac_row2_col6\" class=\"data row2 col6\" >42179.783000</td>\n",
              "      <td id=\"T_c8cac_row2_col7\" class=\"data row2 col7\" >1436.866000</td>\n",
              "    </tr>\n",
              "    <tr>\n",
              "      <th id=\"T_c8cac_level0_row3\" class=\"row_heading level0 row3\" >3277</th>\n",
              "      <td id=\"T_c8cac_row3_col0\" class=\"data row3 col0\" >FENGYUN 2D DEB</td>\n",
              "      <td id=\"T_c8cac_row3_col1\" class=\"data row3 col1\" >DEBRIS</td>\n",
              "      <td id=\"T_c8cac_row3_col2\" class=\"data row3 col2\" >MEDIUM</td>\n",
              "      <td id=\"T_c8cac_row3_col3\" class=\"data row3 col3\" >PRC</td>\n",
              "      <td id=\"T_c8cac_row3_col4\" class=\"data row3 col4\" >2006.000000</td>\n",
              "      <td id=\"T_c8cac_row3_col5\" class=\"data row3 col5\" >XSC</td>\n",
              "      <td id=\"T_c8cac_row3_col6\" class=\"data row3 col6\" >42172.263000</td>\n",
              "      <td id=\"T_c8cac_row3_col7\" class=\"data row3 col7\" >1436.482000</td>\n",
              "    </tr>\n",
              "    <tr>\n",
              "      <th id=\"T_c8cac_level0_row4\" class=\"row_heading level0 row4\" >6845</th>\n",
              "      <td id=\"T_c8cac_row4_col0\" class=\"data row4 col0\" >CTS DEB (ARRAY COVER)</td>\n",
              "      <td id=\"T_c8cac_row4_col1\" class=\"data row4 col1\" >DEBRIS</td>\n",
              "      <td id=\"T_c8cac_row4_col2\" class=\"data row4 col2\" >MEDIUM</td>\n",
              "      <td id=\"T_c8cac_row4_col3\" class=\"data row4 col3\" >CA</td>\n",
              "      <td id=\"T_c8cac_row4_col4\" class=\"data row4 col4\" >1976.000000</td>\n",
              "      <td id=\"T_c8cac_row4_col5\" class=\"data row4 col5\" >AFETR</td>\n",
              "      <td id=\"T_c8cac_row4_col6\" class=\"data row4 col6\" >42160.181000</td>\n",
              "      <td id=\"T_c8cac_row4_col7\" class=\"data row4 col7\" >1435.864000</td>\n",
              "    </tr>\n",
              "  </tbody>\n",
              "</table>\n"
            ]
          },
          "metadata": {},
          "execution_count": 106
        }
      ]
    },
    {
      "cell_type": "markdown",
      "source": [
        "* O detrito de maior altitude é da missão **S5 DEB** com 42.528,694 km"
      ],
      "metadata": {
        "id": "LhdkWpDON_Ns"
      }
    },
    {
      "cell_type": "markdown",
      "source": [
        "**Vamos ver qual o detrito leva mais e menos tempo para dar uma volta completa na Terra**"
      ],
      "metadata": {
        "id": "9uu_H9HgNrXZ"
      }
    },
    {
      "cell_type": "code",
      "source": [
        "d1 = df_debris.nlargest(5, 'PERIOD')\n",
        "d1.style.apply(valor_max, subset=['PERIOD'])\n"
      ],
      "metadata": {
        "colab": {
          "base_uri": "https://localhost:8080/",
          "height": 206
        },
        "id": "DnQmUyNhMCh6",
        "outputId": "c6f88c88-7871-4309-85f8-0e8e75c53878"
      },
      "execution_count": null,
      "outputs": [
        {
          "output_type": "execute_result",
          "data": {
            "text/plain": [
              "<pandas.io.formats.style.Styler at 0x7f16b816ac10>"
            ],
            "text/html": [
              "<style type=\"text/css\">\n",
              "#T_ae4f3_row0_col7 {\n",
              "  background-color: cyan;\n",
              "}\n",
              "</style>\n",
              "<table id=\"T_ae4f3_\" class=\"dataframe\">\n",
              "  <thead>\n",
              "    <tr>\n",
              "      <th class=\"blank level0\" >&nbsp;</th>\n",
              "      <th class=\"col_heading level0 col0\" >OBJECT_NAME</th>\n",
              "      <th class=\"col_heading level0 col1\" >OBJECT_TYPE</th>\n",
              "      <th class=\"col_heading level0 col2\" >RCS_SIZE</th>\n",
              "      <th class=\"col_heading level0 col3\" >COUNTRY_CODE</th>\n",
              "      <th class=\"col_heading level0 col4\" >LAUNCH_DATE</th>\n",
              "      <th class=\"col_heading level0 col5\" >SITE</th>\n",
              "      <th class=\"col_heading level0 col6\" >SEMIMAJOR_AXIS</th>\n",
              "      <th class=\"col_heading level0 col7\" >PERIOD</th>\n",
              "    </tr>\n",
              "  </thead>\n",
              "  <tbody>\n",
              "    <tr>\n",
              "      <th id=\"T_ae4f3_level0_row0\" class=\"row_heading level0 row0\" >10078</th>\n",
              "      <td id=\"T_ae4f3_row0_col0\" class=\"data row0 col0\" >S5 DEB</td>\n",
              "      <td id=\"T_ae4f3_row0_col1\" class=\"data row0 col1\" >DEBRIS</td>\n",
              "      <td id=\"T_ae4f3_row0_col2\" class=\"data row0 col2\" >LARGE</td>\n",
              "      <td id=\"T_ae4f3_row0_col3\" class=\"data row0 col3\" >US</td>\n",
              "      <td id=\"T_ae4f3_row0_col4\" class=\"data row0 col4\" >2019.000000</td>\n",
              "      <td id=\"T_ae4f3_row0_col5\" class=\"data row0 col5\" >AFETR</td>\n",
              "      <td id=\"T_ae4f3_row0_col6\" class=\"data row0 col6\" >42528.694000</td>\n",
              "      <td id=\"T_ae4f3_row0_col7\" class=\"data row0 col7\" >1454.731000</td>\n",
              "    </tr>\n",
              "    <tr>\n",
              "      <th id=\"T_ae4f3_level0_row1\" class=\"row_heading level0 row1\" >880</th>\n",
              "      <td id=\"T_ae4f3_row1_col0\" class=\"data row1 col0\" >EKRAN 2 DEB</td>\n",
              "      <td id=\"T_ae4f3_row1_col1\" class=\"data row1 col1\" >DEBRIS</td>\n",
              "      <td id=\"T_ae4f3_row1_col2\" class=\"data row1 col2\" >MEDIUM</td>\n",
              "      <td id=\"T_ae4f3_row1_col3\" class=\"data row1 col3\" >CIS</td>\n",
              "      <td id=\"T_ae4f3_row1_col4\" class=\"data row1 col4\" >1977.000000</td>\n",
              "      <td id=\"T_ae4f3_row1_col5\" class=\"data row1 col5\" >TTMTR</td>\n",
              "      <td id=\"T_ae4f3_row1_col6\" class=\"data row1 col6\" >42203.198000</td>\n",
              "      <td id=\"T_ae4f3_row1_col7\" class=\"data row1 col7\" >1438.063000</td>\n",
              "    </tr>\n",
              "    <tr>\n",
              "      <th id=\"T_ae4f3_level0_row2\" class=\"row_heading level0 row2\" >9744</th>\n",
              "      <td id=\"T_ae4f3_row2_col0\" class=\"data row2 col0\" >FENGYUN 2G DEB</td>\n",
              "      <td id=\"T_ae4f3_row2_col1\" class=\"data row2 col1\" >DEBRIS</td>\n",
              "      <td id=\"T_ae4f3_row2_col2\" class=\"data row2 col2\" >nan</td>\n",
              "      <td id=\"T_ae4f3_row2_col3\" class=\"data row2 col3\" >PRC</td>\n",
              "      <td id=\"T_ae4f3_row2_col4\" class=\"data row2 col4\" >2014.000000</td>\n",
              "      <td id=\"T_ae4f3_row2_col5\" class=\"data row2 col5\" >XSC</td>\n",
              "      <td id=\"T_ae4f3_row2_col6\" class=\"data row2 col6\" >42179.783000</td>\n",
              "      <td id=\"T_ae4f3_row2_col7\" class=\"data row2 col7\" >1436.866000</td>\n",
              "    </tr>\n",
              "    <tr>\n",
              "      <th id=\"T_ae4f3_level0_row3\" class=\"row_heading level0 row3\" >3277</th>\n",
              "      <td id=\"T_ae4f3_row3_col0\" class=\"data row3 col0\" >FENGYUN 2D DEB</td>\n",
              "      <td id=\"T_ae4f3_row3_col1\" class=\"data row3 col1\" >DEBRIS</td>\n",
              "      <td id=\"T_ae4f3_row3_col2\" class=\"data row3 col2\" >MEDIUM</td>\n",
              "      <td id=\"T_ae4f3_row3_col3\" class=\"data row3 col3\" >PRC</td>\n",
              "      <td id=\"T_ae4f3_row3_col4\" class=\"data row3 col4\" >2006.000000</td>\n",
              "      <td id=\"T_ae4f3_row3_col5\" class=\"data row3 col5\" >XSC</td>\n",
              "      <td id=\"T_ae4f3_row3_col6\" class=\"data row3 col6\" >42172.263000</td>\n",
              "      <td id=\"T_ae4f3_row3_col7\" class=\"data row3 col7\" >1436.482000</td>\n",
              "    </tr>\n",
              "    <tr>\n",
              "      <th id=\"T_ae4f3_level0_row4\" class=\"row_heading level0 row4\" >6845</th>\n",
              "      <td id=\"T_ae4f3_row4_col0\" class=\"data row4 col0\" >CTS DEB (ARRAY COVER)</td>\n",
              "      <td id=\"T_ae4f3_row4_col1\" class=\"data row4 col1\" >DEBRIS</td>\n",
              "      <td id=\"T_ae4f3_row4_col2\" class=\"data row4 col2\" >MEDIUM</td>\n",
              "      <td id=\"T_ae4f3_row4_col3\" class=\"data row4 col3\" >CA</td>\n",
              "      <td id=\"T_ae4f3_row4_col4\" class=\"data row4 col4\" >1976.000000</td>\n",
              "      <td id=\"T_ae4f3_row4_col5\" class=\"data row4 col5\" >AFETR</td>\n",
              "      <td id=\"T_ae4f3_row4_col6\" class=\"data row4 col6\" >42160.181000</td>\n",
              "      <td id=\"T_ae4f3_row4_col7\" class=\"data row4 col7\" >1435.864000</td>\n",
              "    </tr>\n",
              "  </tbody>\n",
              "</table>\n"
            ]
          },
          "metadata": {},
          "execution_count": 107
        }
      ]
    },
    {
      "cell_type": "code",
      "source": [
        "d2 = df_debris.nsmallest(5, 'PERIOD')\n",
        "d2.style.apply(valor_min, subset=['PERIOD'])"
      ],
      "metadata": {
        "colab": {
          "base_uri": "https://localhost:8080/",
          "height": 206
        },
        "id": "VmHbDy1AMQga",
        "outputId": "2d52cbcd-24a3-40b0-b917-5c3ca9c3b265"
      },
      "execution_count": null,
      "outputs": [
        {
          "output_type": "execute_result",
          "data": {
            "text/plain": [
              "<pandas.io.formats.style.Styler at 0x7f16b8142310>"
            ],
            "text/html": [
              "<style type=\"text/css\">\n",
              "#T_43217_row0_col7 {\n",
              "  background-color: yellow;\n",
              "}\n",
              "</style>\n",
              "<table id=\"T_43217_\" class=\"dataframe\">\n",
              "  <thead>\n",
              "    <tr>\n",
              "      <th class=\"blank level0\" >&nbsp;</th>\n",
              "      <th class=\"col_heading level0 col0\" >OBJECT_NAME</th>\n",
              "      <th class=\"col_heading level0 col1\" >OBJECT_TYPE</th>\n",
              "      <th class=\"col_heading level0 col2\" >RCS_SIZE</th>\n",
              "      <th class=\"col_heading level0 col3\" >COUNTRY_CODE</th>\n",
              "      <th class=\"col_heading level0 col4\" >LAUNCH_DATE</th>\n",
              "      <th class=\"col_heading level0 col5\" >SITE</th>\n",
              "      <th class=\"col_heading level0 col6\" >SEMIMAJOR_AXIS</th>\n",
              "      <th class=\"col_heading level0 col7\" >PERIOD</th>\n",
              "    </tr>\n",
              "  </thead>\n",
              "  <tbody>\n",
              "    <tr>\n",
              "      <th id=\"T_43217_level0_row0\" class=\"row_heading level0 row0\" >14233</th>\n",
              "      <td id=\"T_43217_row0_col0\" class=\"data row0 col0\" >DRAGON CRS-23 DEB</td>\n",
              "      <td id=\"T_43217_row0_col1\" class=\"data row0 col1\" >DEBRIS</td>\n",
              "      <td id=\"T_43217_row0_col2\" class=\"data row0 col2\" >LARGE</td>\n",
              "      <td id=\"T_43217_row0_col3\" class=\"data row0 col3\" >US</td>\n",
              "      <td id=\"T_43217_row0_col4\" class=\"data row0 col4\" >2021.000000</td>\n",
              "      <td id=\"T_43217_row0_col5\" class=\"data row0 col5\" >AFETR</td>\n",
              "      <td id=\"T_43217_row0_col6\" class=\"data row0 col6\" >6664.457000</td>\n",
              "      <td id=\"T_43217_row0_col7\" class=\"data row0 col7\" >90.242000</td>\n",
              "    </tr>\n",
              "    <tr>\n",
              "      <th id=\"T_43217_level0_row1\" class=\"row_heading level0 row1\" >14221</th>\n",
              "      <td id=\"T_43217_row1_col0\" class=\"data row1 col0\" >SZ-12 MODULE DEB</td>\n",
              "      <td id=\"T_43217_row1_col1\" class=\"data row1 col1\" >DEBRIS</td>\n",
              "      <td id=\"T_43217_row1_col2\" class=\"data row1 col2\" >SMALL</td>\n",
              "      <td id=\"T_43217_row1_col3\" class=\"data row1 col3\" >PRC</td>\n",
              "      <td id=\"T_43217_row1_col4\" class=\"data row1 col4\" >2021.000000</td>\n",
              "      <td id=\"T_43217_row1_col5\" class=\"data row1 col5\" >JSC</td>\n",
              "      <td id=\"T_43217_row1_col6\" class=\"data row1 col6\" >6696.886000</td>\n",
              "      <td id=\"T_43217_row1_col7\" class=\"data row1 col7\" >90.901000</td>\n",
              "    </tr>\n",
              "    <tr>\n",
              "      <th id=\"T_43217_level0_row2\" class=\"row_heading level0 row2\" >12601</th>\n",
              "      <td id=\"T_43217_row2_col0\" class=\"data row2 col0\" >ISS DEB (COLKA COVER)</td>\n",
              "      <td id=\"T_43217_row2_col1\" class=\"data row2 col1\" >DEBRIS</td>\n",
              "      <td id=\"T_43217_row2_col2\" class=\"data row2 col2\" >MEDIUM</td>\n",
              "      <td id=\"T_43217_row2_col3\" class=\"data row2 col3\" >US</td>\n",
              "      <td id=\"T_43217_row2_col4\" class=\"data row2 col4\" >1998.000000</td>\n",
              "      <td id=\"T_43217_row2_col5\" class=\"data row2 col5\" >TTMTR</td>\n",
              "      <td id=\"T_43217_row2_col6\" class=\"data row2 col6\" >6728.527000</td>\n",
              "      <td id=\"T_43217_row2_col7\" class=\"data row2 col7\" >91.546000</td>\n",
              "    </tr>\n",
              "    <tr>\n",
              "      <th id=\"T_43217_level0_row3\" class=\"row_heading level0 row3\" >14218</th>\n",
              "      <td id=\"T_43217_row3_col0\" class=\"data row3 col0\" >INSPIRATION-4 DEB</td>\n",
              "      <td id=\"T_43217_row3_col1\" class=\"data row3 col1\" >DEBRIS</td>\n",
              "      <td id=\"T_43217_row3_col2\" class=\"data row3 col2\" >LARGE</td>\n",
              "      <td id=\"T_43217_row3_col3\" class=\"data row3 col3\" >US</td>\n",
              "      <td id=\"T_43217_row3_col4\" class=\"data row3 col4\" >2021.000000</td>\n",
              "      <td id=\"T_43217_row3_col5\" class=\"data row3 col5\" >AFETR</td>\n",
              "      <td id=\"T_43217_row3_col6\" class=\"data row3 col6\" >6731.989000</td>\n",
              "      <td id=\"T_43217_row3_col7\" class=\"data row3 col7\" >91.617000</td>\n",
              "    </tr>\n",
              "    <tr>\n",
              "      <th id=\"T_43217_level0_row4\" class=\"row_heading level0 row4\" >8174</th>\n",
              "      <td id=\"T_43217_row4_col0\" class=\"data row4 col0\" >RESURS P2 DEB</td>\n",
              "      <td id=\"T_43217_row4_col1\" class=\"data row4 col1\" >DEBRIS</td>\n",
              "      <td id=\"T_43217_row4_col2\" class=\"data row4 col2\" >SMALL</td>\n",
              "      <td id=\"T_43217_row4_col3\" class=\"data row4 col3\" >CIS</td>\n",
              "      <td id=\"T_43217_row4_col4\" class=\"data row4 col4\" >2014.000000</td>\n",
              "      <td id=\"T_43217_row4_col5\" class=\"data row4 col5\" >TTMTR</td>\n",
              "      <td id=\"T_43217_row4_col6\" class=\"data row4 col6\" >6744.350000</td>\n",
              "      <td id=\"T_43217_row4_col7\" class=\"data row4 col7\" >91.869000</td>\n",
              "    </tr>\n",
              "  </tbody>\n",
              "</table>\n"
            ]
          },
          "metadata": {},
          "execution_count": 108
        }
      ]
    },
    {
      "cell_type": "markdown",
      "source": [
        "* O detrito com maior tempo para dar uma volta completa ao redor do planeta é o **S5 DEB** que a 42.528,694 km de altitude leva 1.455 minutos.\n",
        "\n",
        "* O detrito com menor tempo para dar uma volta completa ao redor do planeta é dos destroços da missão CRS-23 (**DRAGON CRS-23 DEB**) que a 6.664,457 km de altitude leva cerca de 90 minutos"
      ],
      "metadata": {
        "id": "IVa1E_tgMTWG"
      }
    }
  ]
}